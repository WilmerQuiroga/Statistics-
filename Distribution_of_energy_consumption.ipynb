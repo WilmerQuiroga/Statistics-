{
  "cells": [
    {
      "cell_type": "markdown",
      "id": "528c4397",
      "metadata": {
        "id": "528c4397"
      },
      "source": [
        "# Statistiques"
      ]
    },
    {
      "cell_type": "markdown",
      "id": "9f9f9769",
      "metadata": {
        "id": "9f9f9769"
      },
      "source": []
    },
    {
      "cell_type": "markdown",
      "id": "ca534555",
      "metadata": {
        "id": "ca534555"
      },
      "source": [
        "## Nom: Wilmar QUIROGA"
      ]
    },
    {
      "cell_type": "markdown",
      "id": "986d36a8",
      "metadata": {
        "id": "986d36a8"
      },
      "source": [
        "## Imports"
      ]
    },
    {
      "cell_type": "markdown",
      "id": "f30a6df8",
      "metadata": {
        "id": "f30a6df8"
      },
      "source": [
        "S'il vous plaît, **n'importez pas** d'autres librairies."
      ]
    },
    {
      "cell_type": "code",
      "execution_count": null,
      "id": "d453a573",
      "metadata": {
        "id": "d453a573"
      },
      "outputs": [],
      "source": [
        "import numpy as np\n",
        "import pandas as pd\n",
        "import matplotlib.pyplot as plt"
      ]
    },
    {
      "cell_type": "code",
      "execution_count": null,
      "id": "18e10613",
      "metadata": {
        "id": "18e10613"
      },
      "outputs": [],
      "source": [
        "from scipy.stats import norm, chi2, gaussian_kde"
      ]
    },
    {
      "cell_type": "code",
      "execution_count": null,
      "id": "2e543f41",
      "metadata": {
        "id": "2e543f41"
      },
      "outputs": [],
      "source": [
        "import seaborn as sns"
      ]
    },
    {
      "cell_type": "markdown",
      "id": "150efe52",
      "metadata": {
        "id": "150efe52"
      },
      "source": [
        "## Données"
      ]
    },
    {
      "cell_type": "markdown",
      "id": "a447bd21",
      "metadata": {
        "id": "a447bd21"
      },
      "source": [
        "Nous considérons les données de **consomation quotidienne d'electricité** (en MW) en France dans le période 2013-2023.\n",
        "\n",
        "Les informationnes détaillées sur les données sont accessible [ici](https://www.data.gouv.fr/fr/datasets/consommation-quotidienne-brute-regionale/)."
      ]
    },
    {
      "cell_type": "code",
      "execution_count": null,
      "id": "a5379d2c",
      "metadata": {
        "id": "a5379d2c"
      },
      "outputs": [],
      "source": [
        "# do not modify this cell\n",
        "filename = 'power_consumption.csv'\n",
        "df = pd.read_csv(filename)\n"
      ]
    },
    {
      "cell_type": "code",
      "execution_count": null,
      "id": "c67ea70e",
      "metadata": {
        "colab": {
          "base_uri": "https://localhost:8080/",
          "height": 206
        },
        "id": "c67ea70e",
        "outputId": "45c0cf3b-dd2e-4282-b127-c583b739a797"
      },
      "outputs": [
        {
          "output_type": "execute_result",
          "data": {
            "text/plain": [
              "                 region        date  consumption\n",
              "0  Auvergne-Rhône-Alpes  2013-01-01         7560\n",
              "1  Auvergne-Rhône-Alpes  2013-01-02         8700\n",
              "2  Auvergne-Rhône-Alpes  2013-01-03         9367\n",
              "3  Auvergne-Rhône-Alpes  2013-01-04         9133\n",
              "4  Auvergne-Rhône-Alpes  2013-01-05         8283"
            ],
            "text/html": [
              "\n",
              "  <div id=\"df-8582b127-c9d4-4b36-86ff-53bcc275216d\" class=\"colab-df-container\">\n",
              "    <div>\n",
              "<style scoped>\n",
              "    .dataframe tbody tr th:only-of-type {\n",
              "        vertical-align: middle;\n",
              "    }\n",
              "\n",
              "    .dataframe tbody tr th {\n",
              "        vertical-align: top;\n",
              "    }\n",
              "\n",
              "    .dataframe thead th {\n",
              "        text-align: right;\n",
              "    }\n",
              "</style>\n",
              "<table border=\"1\" class=\"dataframe\">\n",
              "  <thead>\n",
              "    <tr style=\"text-align: right;\">\n",
              "      <th></th>\n",
              "      <th>region</th>\n",
              "      <th>date</th>\n",
              "      <th>consumption</th>\n",
              "    </tr>\n",
              "  </thead>\n",
              "  <tbody>\n",
              "    <tr>\n",
              "      <th>0</th>\n",
              "      <td>Auvergne-Rhône-Alpes</td>\n",
              "      <td>2013-01-01</td>\n",
              "      <td>7560</td>\n",
              "    </tr>\n",
              "    <tr>\n",
              "      <th>1</th>\n",
              "      <td>Auvergne-Rhône-Alpes</td>\n",
              "      <td>2013-01-02</td>\n",
              "      <td>8700</td>\n",
              "    </tr>\n",
              "    <tr>\n",
              "      <th>2</th>\n",
              "      <td>Auvergne-Rhône-Alpes</td>\n",
              "      <td>2013-01-03</td>\n",
              "      <td>9367</td>\n",
              "    </tr>\n",
              "    <tr>\n",
              "      <th>3</th>\n",
              "      <td>Auvergne-Rhône-Alpes</td>\n",
              "      <td>2013-01-04</td>\n",
              "      <td>9133</td>\n",
              "    </tr>\n",
              "    <tr>\n",
              "      <th>4</th>\n",
              "      <td>Auvergne-Rhône-Alpes</td>\n",
              "      <td>2013-01-05</td>\n",
              "      <td>8283</td>\n",
              "    </tr>\n",
              "  </tbody>\n",
              "</table>\n",
              "</div>\n",
              "    <div class=\"colab-df-buttons\">\n",
              "\n",
              "  <div class=\"colab-df-container\">\n",
              "    <button class=\"colab-df-convert\" onclick=\"convertToInteractive('df-8582b127-c9d4-4b36-86ff-53bcc275216d')\"\n",
              "            title=\"Convert this dataframe to an interactive table.\"\n",
              "            style=\"display:none;\">\n",
              "\n",
              "  <svg xmlns=\"http://www.w3.org/2000/svg\" height=\"24px\" viewBox=\"0 -960 960 960\">\n",
              "    <path d=\"M120-120v-720h720v720H120Zm60-500h600v-160H180v160Zm220 220h160v-160H400v160Zm0 220h160v-160H400v160ZM180-400h160v-160H180v160Zm440 0h160v-160H620v160ZM180-180h160v-160H180v160Zm440 0h160v-160H620v160Z\"/>\n",
              "  </svg>\n",
              "    </button>\n",
              "\n",
              "  <style>\n",
              "    .colab-df-container {\n",
              "      display:flex;\n",
              "      gap: 12px;\n",
              "    }\n",
              "\n",
              "    .colab-df-convert {\n",
              "      background-color: #E8F0FE;\n",
              "      border: none;\n",
              "      border-radius: 50%;\n",
              "      cursor: pointer;\n",
              "      display: none;\n",
              "      fill: #1967D2;\n",
              "      height: 32px;\n",
              "      padding: 0 0 0 0;\n",
              "      width: 32px;\n",
              "    }\n",
              "\n",
              "    .colab-df-convert:hover {\n",
              "      background-color: #E2EBFA;\n",
              "      box-shadow: 0px 1px 2px rgba(60, 64, 67, 0.3), 0px 1px 3px 1px rgba(60, 64, 67, 0.15);\n",
              "      fill: #174EA6;\n",
              "    }\n",
              "\n",
              "    .colab-df-buttons div {\n",
              "      margin-bottom: 4px;\n",
              "    }\n",
              "\n",
              "    [theme=dark] .colab-df-convert {\n",
              "      background-color: #3B4455;\n",
              "      fill: #D2E3FC;\n",
              "    }\n",
              "\n",
              "    [theme=dark] .colab-df-convert:hover {\n",
              "      background-color: #434B5C;\n",
              "      box-shadow: 0px 1px 3px 1px rgba(0, 0, 0, 0.15);\n",
              "      filter: drop-shadow(0px 1px 2px rgba(0, 0, 0, 0.3));\n",
              "      fill: #FFFFFF;\n",
              "    }\n",
              "  </style>\n",
              "\n",
              "    <script>\n",
              "      const buttonEl =\n",
              "        document.querySelector('#df-8582b127-c9d4-4b36-86ff-53bcc275216d button.colab-df-convert');\n",
              "      buttonEl.style.display =\n",
              "        google.colab.kernel.accessAllowed ? 'block' : 'none';\n",
              "\n",
              "      async function convertToInteractive(key) {\n",
              "        const element = document.querySelector('#df-8582b127-c9d4-4b36-86ff-53bcc275216d');\n",
              "        const dataTable =\n",
              "          await google.colab.kernel.invokeFunction('convertToInteractive',\n",
              "                                                    [key], {});\n",
              "        if (!dataTable) return;\n",
              "\n",
              "        const docLinkHtml = 'Like what you see? Visit the ' +\n",
              "          '<a target=\"_blank\" href=https://colab.research.google.com/notebooks/data_table.ipynb>data table notebook</a>'\n",
              "          + ' to learn more about interactive tables.';\n",
              "        element.innerHTML = '';\n",
              "        dataTable['output_type'] = 'display_data';\n",
              "        await google.colab.output.renderOutput(dataTable, element);\n",
              "        const docLink = document.createElement('div');\n",
              "        docLink.innerHTML = docLinkHtml;\n",
              "        element.appendChild(docLink);\n",
              "      }\n",
              "    </script>\n",
              "  </div>\n",
              "\n",
              "\n",
              "<div id=\"df-2525dc3a-9b5d-4f58-925c-590a8d02a2d2\">\n",
              "  <button class=\"colab-df-quickchart\" onclick=\"quickchart('df-2525dc3a-9b5d-4f58-925c-590a8d02a2d2')\"\n",
              "            title=\"Suggest charts.\"\n",
              "            style=\"display:none;\">\n",
              "\n",
              "<svg xmlns=\"http://www.w3.org/2000/svg\" height=\"24px\"viewBox=\"0 0 24 24\"\n",
              "     width=\"24px\">\n",
              "    <g>\n",
              "        <path d=\"M19 3H5c-1.1 0-2 .9-2 2v14c0 1.1.9 2 2 2h14c1.1 0 2-.9 2-2V5c0-1.1-.9-2-2-2zM9 17H7v-7h2v7zm4 0h-2V7h2v10zm4 0h-2v-4h2v4z\"/>\n",
              "    </g>\n",
              "</svg>\n",
              "  </button>\n",
              "\n",
              "<style>\n",
              "  .colab-df-quickchart {\n",
              "      --bg-color: #E8F0FE;\n",
              "      --fill-color: #1967D2;\n",
              "      --hover-bg-color: #E2EBFA;\n",
              "      --hover-fill-color: #174EA6;\n",
              "      --disabled-fill-color: #AAA;\n",
              "      --disabled-bg-color: #DDD;\n",
              "  }\n",
              "\n",
              "  [theme=dark] .colab-df-quickchart {\n",
              "      --bg-color: #3B4455;\n",
              "      --fill-color: #D2E3FC;\n",
              "      --hover-bg-color: #434B5C;\n",
              "      --hover-fill-color: #FFFFFF;\n",
              "      --disabled-bg-color: #3B4455;\n",
              "      --disabled-fill-color: #666;\n",
              "  }\n",
              "\n",
              "  .colab-df-quickchart {\n",
              "    background-color: var(--bg-color);\n",
              "    border: none;\n",
              "    border-radius: 50%;\n",
              "    cursor: pointer;\n",
              "    display: none;\n",
              "    fill: var(--fill-color);\n",
              "    height: 32px;\n",
              "    padding: 0;\n",
              "    width: 32px;\n",
              "  }\n",
              "\n",
              "  .colab-df-quickchart:hover {\n",
              "    background-color: var(--hover-bg-color);\n",
              "    box-shadow: 0 1px 2px rgba(60, 64, 67, 0.3), 0 1px 3px 1px rgba(60, 64, 67, 0.15);\n",
              "    fill: var(--button-hover-fill-color);\n",
              "  }\n",
              "\n",
              "  .colab-df-quickchart-complete:disabled,\n",
              "  .colab-df-quickchart-complete:disabled:hover {\n",
              "    background-color: var(--disabled-bg-color);\n",
              "    fill: var(--disabled-fill-color);\n",
              "    box-shadow: none;\n",
              "  }\n",
              "\n",
              "  .colab-df-spinner {\n",
              "    border: 2px solid var(--fill-color);\n",
              "    border-color: transparent;\n",
              "    border-bottom-color: var(--fill-color);\n",
              "    animation:\n",
              "      spin 1s steps(1) infinite;\n",
              "  }\n",
              "\n",
              "  @keyframes spin {\n",
              "    0% {\n",
              "      border-color: transparent;\n",
              "      border-bottom-color: var(--fill-color);\n",
              "      border-left-color: var(--fill-color);\n",
              "    }\n",
              "    20% {\n",
              "      border-color: transparent;\n",
              "      border-left-color: var(--fill-color);\n",
              "      border-top-color: var(--fill-color);\n",
              "    }\n",
              "    30% {\n",
              "      border-color: transparent;\n",
              "      border-left-color: var(--fill-color);\n",
              "      border-top-color: var(--fill-color);\n",
              "      border-right-color: var(--fill-color);\n",
              "    }\n",
              "    40% {\n",
              "      border-color: transparent;\n",
              "      border-right-color: var(--fill-color);\n",
              "      border-top-color: var(--fill-color);\n",
              "    }\n",
              "    60% {\n",
              "      border-color: transparent;\n",
              "      border-right-color: var(--fill-color);\n",
              "    }\n",
              "    80% {\n",
              "      border-color: transparent;\n",
              "      border-right-color: var(--fill-color);\n",
              "      border-bottom-color: var(--fill-color);\n",
              "    }\n",
              "    90% {\n",
              "      border-color: transparent;\n",
              "      border-bottom-color: var(--fill-color);\n",
              "    }\n",
              "  }\n",
              "</style>\n",
              "\n",
              "  <script>\n",
              "    async function quickchart(key) {\n",
              "      const quickchartButtonEl =\n",
              "        document.querySelector('#' + key + ' button');\n",
              "      quickchartButtonEl.disabled = true;  // To prevent multiple clicks.\n",
              "      quickchartButtonEl.classList.add('colab-df-spinner');\n",
              "      try {\n",
              "        const charts = await google.colab.kernel.invokeFunction(\n",
              "            'suggestCharts', [key], {});\n",
              "      } catch (error) {\n",
              "        console.error('Error during call to suggestCharts:', error);\n",
              "      }\n",
              "      quickchartButtonEl.classList.remove('colab-df-spinner');\n",
              "      quickchartButtonEl.classList.add('colab-df-quickchart-complete');\n",
              "    }\n",
              "    (() => {\n",
              "      let quickchartButtonEl =\n",
              "        document.querySelector('#df-2525dc3a-9b5d-4f58-925c-590a8d02a2d2 button');\n",
              "      quickchartButtonEl.style.display =\n",
              "        google.colab.kernel.accessAllowed ? 'block' : 'none';\n",
              "    })();\n",
              "  </script>\n",
              "</div>\n",
              "    </div>\n",
              "  </div>\n"
            ]
          },
          "metadata": {},
          "execution_count": 36
        }
      ],
      "source": [
        "df.head()"
      ]
    },
    {
      "cell_type": "code",
      "execution_count": null,
      "id": "9e299cd9",
      "metadata": {
        "id": "9e299cd9"
      },
      "outputs": [],
      "source": [
        "regions = list(df.region.unique())"
      ]
    },
    {
      "cell_type": "code",
      "execution_count": null,
      "id": "907ac06f",
      "metadata": {
        "colab": {
          "base_uri": "https://localhost:8080/"
        },
        "id": "907ac06f",
        "outputId": "1e0bde76-ea9f-412b-9783-df5df42e844a"
      },
      "outputs": [
        {
          "output_type": "execute_result",
          "data": {
            "text/plain": [
              "['Auvergne-Rhône-Alpes',\n",
              " 'Bourgogne-Franche-Comté',\n",
              " 'Bretagne',\n",
              " 'Centre-Val de Loire',\n",
              " 'Grand Est',\n",
              " 'Hauts-de-France',\n",
              " 'Normandie',\n",
              " 'Nouvelle-Aquitaine',\n",
              " 'Occitanie',\n",
              " 'Pays de la Loire',\n",
              " \"Provence-Alpes-Côte d'Azur\",\n",
              " 'Île-de-France']"
            ]
          },
          "metadata": {},
          "execution_count": 38
        }
      ],
      "source": [
        "regions"
      ]
    },
    {
      "cell_type": "code",
      "execution_count": null,
      "id": "2e2704da",
      "metadata": {
        "colab": {
          "base_uri": "https://localhost:8080/",
          "height": 457
        },
        "id": "2e2704da",
        "outputId": "0b859566-eee8-424e-9a5f-02bc21f7e071"
      },
      "outputs": [
        {
          "output_type": "execute_result",
          "data": {
            "text/plain": [
              "                            consumption\n",
              "region                                 \n",
              "Auvergne-Rhône-Alpes               7495\n",
              "Bourgogne-Franche-Comté            2416\n",
              "Bretagne                           2546\n",
              "Centre-Val de Loire                2139\n",
              "Grand Est                          5155\n",
              "Hauts-de-France                    5726\n",
              "Normandie                          3168\n",
              "Nouvelle-Aquitaine                 4925\n",
              "Occitanie                          4266\n",
              "Pays de la Loire                   3077\n",
              "Provence-Alpes-Côte d'Azur         4656\n",
              "Île-de-France                      8008"
            ],
            "text/html": [
              "\n",
              "  <div id=\"df-eb74fe67-248b-4053-b971-4474d84e7790\" class=\"colab-df-container\">\n",
              "    <div>\n",
              "<style scoped>\n",
              "    .dataframe tbody tr th:only-of-type {\n",
              "        vertical-align: middle;\n",
              "    }\n",
              "\n",
              "    .dataframe tbody tr th {\n",
              "        vertical-align: top;\n",
              "    }\n",
              "\n",
              "    .dataframe thead th {\n",
              "        text-align: right;\n",
              "    }\n",
              "</style>\n",
              "<table border=\"1\" class=\"dataframe\">\n",
              "  <thead>\n",
              "    <tr style=\"text-align: right;\">\n",
              "      <th></th>\n",
              "      <th>consumption</th>\n",
              "    </tr>\n",
              "    <tr>\n",
              "      <th>region</th>\n",
              "      <th></th>\n",
              "    </tr>\n",
              "  </thead>\n",
              "  <tbody>\n",
              "    <tr>\n",
              "      <th>Auvergne-Rhône-Alpes</th>\n",
              "      <td>7495</td>\n",
              "    </tr>\n",
              "    <tr>\n",
              "      <th>Bourgogne-Franche-Comté</th>\n",
              "      <td>2416</td>\n",
              "    </tr>\n",
              "    <tr>\n",
              "      <th>Bretagne</th>\n",
              "      <td>2546</td>\n",
              "    </tr>\n",
              "    <tr>\n",
              "      <th>Centre-Val de Loire</th>\n",
              "      <td>2139</td>\n",
              "    </tr>\n",
              "    <tr>\n",
              "      <th>Grand Est</th>\n",
              "      <td>5155</td>\n",
              "    </tr>\n",
              "    <tr>\n",
              "      <th>Hauts-de-France</th>\n",
              "      <td>5726</td>\n",
              "    </tr>\n",
              "    <tr>\n",
              "      <th>Normandie</th>\n",
              "      <td>3168</td>\n",
              "    </tr>\n",
              "    <tr>\n",
              "      <th>Nouvelle-Aquitaine</th>\n",
              "      <td>4925</td>\n",
              "    </tr>\n",
              "    <tr>\n",
              "      <th>Occitanie</th>\n",
              "      <td>4266</td>\n",
              "    </tr>\n",
              "    <tr>\n",
              "      <th>Pays de la Loire</th>\n",
              "      <td>3077</td>\n",
              "    </tr>\n",
              "    <tr>\n",
              "      <th>Provence-Alpes-Côte d'Azur</th>\n",
              "      <td>4656</td>\n",
              "    </tr>\n",
              "    <tr>\n",
              "      <th>Île-de-France</th>\n",
              "      <td>8008</td>\n",
              "    </tr>\n",
              "  </tbody>\n",
              "</table>\n",
              "</div>\n",
              "    <div class=\"colab-df-buttons\">\n",
              "\n",
              "  <div class=\"colab-df-container\">\n",
              "    <button class=\"colab-df-convert\" onclick=\"convertToInteractive('df-eb74fe67-248b-4053-b971-4474d84e7790')\"\n",
              "            title=\"Convert this dataframe to an interactive table.\"\n",
              "            style=\"display:none;\">\n",
              "\n",
              "  <svg xmlns=\"http://www.w3.org/2000/svg\" height=\"24px\" viewBox=\"0 -960 960 960\">\n",
              "    <path d=\"M120-120v-720h720v720H120Zm60-500h600v-160H180v160Zm220 220h160v-160H400v160Zm0 220h160v-160H400v160ZM180-400h160v-160H180v160Zm440 0h160v-160H620v160ZM180-180h160v-160H180v160Zm440 0h160v-160H620v160Z\"/>\n",
              "  </svg>\n",
              "    </button>\n",
              "\n",
              "  <style>\n",
              "    .colab-df-container {\n",
              "      display:flex;\n",
              "      gap: 12px;\n",
              "    }\n",
              "\n",
              "    .colab-df-convert {\n",
              "      background-color: #E8F0FE;\n",
              "      border: none;\n",
              "      border-radius: 50%;\n",
              "      cursor: pointer;\n",
              "      display: none;\n",
              "      fill: #1967D2;\n",
              "      height: 32px;\n",
              "      padding: 0 0 0 0;\n",
              "      width: 32px;\n",
              "    }\n",
              "\n",
              "    .colab-df-convert:hover {\n",
              "      background-color: #E2EBFA;\n",
              "      box-shadow: 0px 1px 2px rgba(60, 64, 67, 0.3), 0px 1px 3px 1px rgba(60, 64, 67, 0.15);\n",
              "      fill: #174EA6;\n",
              "    }\n",
              "\n",
              "    .colab-df-buttons div {\n",
              "      margin-bottom: 4px;\n",
              "    }\n",
              "\n",
              "    [theme=dark] .colab-df-convert {\n",
              "      background-color: #3B4455;\n",
              "      fill: #D2E3FC;\n",
              "    }\n",
              "\n",
              "    [theme=dark] .colab-df-convert:hover {\n",
              "      background-color: #434B5C;\n",
              "      box-shadow: 0px 1px 3px 1px rgba(0, 0, 0, 0.15);\n",
              "      filter: drop-shadow(0px 1px 2px rgba(0, 0, 0, 0.3));\n",
              "      fill: #FFFFFF;\n",
              "    }\n",
              "  </style>\n",
              "\n",
              "    <script>\n",
              "      const buttonEl =\n",
              "        document.querySelector('#df-eb74fe67-248b-4053-b971-4474d84e7790 button.colab-df-convert');\n",
              "      buttonEl.style.display =\n",
              "        google.colab.kernel.accessAllowed ? 'block' : 'none';\n",
              "\n",
              "      async function convertToInteractive(key) {\n",
              "        const element = document.querySelector('#df-eb74fe67-248b-4053-b971-4474d84e7790');\n",
              "        const dataTable =\n",
              "          await google.colab.kernel.invokeFunction('convertToInteractive',\n",
              "                                                    [key], {});\n",
              "        if (!dataTable) return;\n",
              "\n",
              "        const docLinkHtml = 'Like what you see? Visit the ' +\n",
              "          '<a target=\"_blank\" href=https://colab.research.google.com/notebooks/data_table.ipynb>data table notebook</a>'\n",
              "          + ' to learn more about interactive tables.';\n",
              "        element.innerHTML = '';\n",
              "        dataTable['output_type'] = 'display_data';\n",
              "        await google.colab.output.renderOutput(dataTable, element);\n",
              "        const docLink = document.createElement('div');\n",
              "        docLink.innerHTML = docLinkHtml;\n",
              "        element.appendChild(docLink);\n",
              "      }\n",
              "    </script>\n",
              "  </div>\n",
              "\n",
              "\n",
              "<div id=\"df-be64dfea-1e00-4961-b38c-9d5020f29a9c\">\n",
              "  <button class=\"colab-df-quickchart\" onclick=\"quickchart('df-be64dfea-1e00-4961-b38c-9d5020f29a9c')\"\n",
              "            title=\"Suggest charts.\"\n",
              "            style=\"display:none;\">\n",
              "\n",
              "<svg xmlns=\"http://www.w3.org/2000/svg\" height=\"24px\"viewBox=\"0 0 24 24\"\n",
              "     width=\"24px\">\n",
              "    <g>\n",
              "        <path d=\"M19 3H5c-1.1 0-2 .9-2 2v14c0 1.1.9 2 2 2h14c1.1 0 2-.9 2-2V5c0-1.1-.9-2-2-2zM9 17H7v-7h2v7zm4 0h-2V7h2v10zm4 0h-2v-4h2v4z\"/>\n",
              "    </g>\n",
              "</svg>\n",
              "  </button>\n",
              "\n",
              "<style>\n",
              "  .colab-df-quickchart {\n",
              "      --bg-color: #E8F0FE;\n",
              "      --fill-color: #1967D2;\n",
              "      --hover-bg-color: #E2EBFA;\n",
              "      --hover-fill-color: #174EA6;\n",
              "      --disabled-fill-color: #AAA;\n",
              "      --disabled-bg-color: #DDD;\n",
              "  }\n",
              "\n",
              "  [theme=dark] .colab-df-quickchart {\n",
              "      --bg-color: #3B4455;\n",
              "      --fill-color: #D2E3FC;\n",
              "      --hover-bg-color: #434B5C;\n",
              "      --hover-fill-color: #FFFFFF;\n",
              "      --disabled-bg-color: #3B4455;\n",
              "      --disabled-fill-color: #666;\n",
              "  }\n",
              "\n",
              "  .colab-df-quickchart {\n",
              "    background-color: var(--bg-color);\n",
              "    border: none;\n",
              "    border-radius: 50%;\n",
              "    cursor: pointer;\n",
              "    display: none;\n",
              "    fill: var(--fill-color);\n",
              "    height: 32px;\n",
              "    padding: 0;\n",
              "    width: 32px;\n",
              "  }\n",
              "\n",
              "  .colab-df-quickchart:hover {\n",
              "    background-color: var(--hover-bg-color);\n",
              "    box-shadow: 0 1px 2px rgba(60, 64, 67, 0.3), 0 1px 3px 1px rgba(60, 64, 67, 0.15);\n",
              "    fill: var(--button-hover-fill-color);\n",
              "  }\n",
              "\n",
              "  .colab-df-quickchart-complete:disabled,\n",
              "  .colab-df-quickchart-complete:disabled:hover {\n",
              "    background-color: var(--disabled-bg-color);\n",
              "    fill: var(--disabled-fill-color);\n",
              "    box-shadow: none;\n",
              "  }\n",
              "\n",
              "  .colab-df-spinner {\n",
              "    border: 2px solid var(--fill-color);\n",
              "    border-color: transparent;\n",
              "    border-bottom-color: var(--fill-color);\n",
              "    animation:\n",
              "      spin 1s steps(1) infinite;\n",
              "  }\n",
              "\n",
              "  @keyframes spin {\n",
              "    0% {\n",
              "      border-color: transparent;\n",
              "      border-bottom-color: var(--fill-color);\n",
              "      border-left-color: var(--fill-color);\n",
              "    }\n",
              "    20% {\n",
              "      border-color: transparent;\n",
              "      border-left-color: var(--fill-color);\n",
              "      border-top-color: var(--fill-color);\n",
              "    }\n",
              "    30% {\n",
              "      border-color: transparent;\n",
              "      border-left-color: var(--fill-color);\n",
              "      border-top-color: var(--fill-color);\n",
              "      border-right-color: var(--fill-color);\n",
              "    }\n",
              "    40% {\n",
              "      border-color: transparent;\n",
              "      border-right-color: var(--fill-color);\n",
              "      border-top-color: var(--fill-color);\n",
              "    }\n",
              "    60% {\n",
              "      border-color: transparent;\n",
              "      border-right-color: var(--fill-color);\n",
              "    }\n",
              "    80% {\n",
              "      border-color: transparent;\n",
              "      border-right-color: var(--fill-color);\n",
              "      border-bottom-color: var(--fill-color);\n",
              "    }\n",
              "    90% {\n",
              "      border-color: transparent;\n",
              "      border-bottom-color: var(--fill-color);\n",
              "    }\n",
              "  }\n",
              "</style>\n",
              "\n",
              "  <script>\n",
              "    async function quickchart(key) {\n",
              "      const quickchartButtonEl =\n",
              "        document.querySelector('#' + key + ' button');\n",
              "      quickchartButtonEl.disabled = true;  // To prevent multiple clicks.\n",
              "      quickchartButtonEl.classList.add('colab-df-spinner');\n",
              "      try {\n",
              "        const charts = await google.colab.kernel.invokeFunction(\n",
              "            'suggestCharts', [key], {});\n",
              "      } catch (error) {\n",
              "        console.error('Error during call to suggestCharts:', error);\n",
              "      }\n",
              "      quickchartButtonEl.classList.remove('colab-df-spinner');\n",
              "      quickchartButtonEl.classList.add('colab-df-quickchart-complete');\n",
              "    }\n",
              "    (() => {\n",
              "      let quickchartButtonEl =\n",
              "        document.querySelector('#df-be64dfea-1e00-4961-b38c-9d5020f29a9c button');\n",
              "      quickchartButtonEl.style.display =\n",
              "        google.colab.kernel.accessAllowed ? 'block' : 'none';\n",
              "    })();\n",
              "  </script>\n",
              "</div>\n",
              "    </div>\n",
              "  </div>\n"
            ]
          },
          "metadata": {},
          "execution_count": 39
        }
      ],
      "source": [
        "# average consumption per region\n",
        "df[[\"region\", \"consumption\"]].groupby(\"region\").mean().astype(int)"
      ]
    },
    {
      "cell_type": "code",
      "execution_count": null,
      "id": "3ed15bbc",
      "metadata": {
        "colab": {
          "base_uri": "https://localhost:8080/"
        },
        "id": "3ed15bbc",
        "outputId": "eb6dc0d1-7e61-46a0-ce7f-226ac18626aa"
      },
      "outputs": [
        {
          "output_type": "execute_result",
          "data": {
            "text/plain": [
              "consumption    53582\n",
              "dtype: int64"
            ]
          },
          "metadata": {},
          "execution_count": 40
        }
      ],
      "source": [
        "# average consumption in France (MW)\n",
        "df[[\"region\", \"consumption\"]].groupby(\"region\").mean().sum().astype(int)"
      ]
    },
    {
      "cell_type": "code",
      "execution_count": null,
      "id": "2ebdd086",
      "metadata": {
        "id": "2ebdd086",
        "colab": {
          "base_uri": "https://localhost:8080/",
          "height": 470
        },
        "outputId": "533a0ea7-49fd-40d2-e99f-9e0051b27e99"
      },
      "outputs": [
        {
          "output_type": "execute_result",
          "data": {
            "text/plain": [
              "array([[<Axes: title={'center': 'consumption'}>]], dtype=object)"
            ]
          },
          "metadata": {},
          "execution_count": 41
        },
        {
          "output_type": "display_data",
          "data": {
            "text/plain": [
              "<Figure size 640x480 with 1 Axes>"
            ],
            "image/png": "[encoded data removed]"
          },
          "metadata": {}
        }
      ],
      "source": [
        "# selection of a region\n",
        "region = \"Bretagne\"\n",
        "df_region = df[df.region == region]\n",
        "df_region.hist()"
      ]
    },
    {
      "cell_type": "code",
      "execution_count": null,
      "id": "bbb87de5",
      "metadata": {
        "colab": {
          "base_uri": "https://localhost:8080/",
          "height": 472
        },
        "id": "bbb87de5",
        "outputId": "25540891-56f4-4560-ad2b-3b55f775b857"
      },
      "outputs": [
        {
          "output_type": "display_data",
          "data": {
            "text/plain": [
              "<Figure size 640x480 with 1 Axes>"
            ],
            "image/png": "[encoded data removed]"
          },
          "metadata": {}
        }
      ],
      "source": [
        "# density (with kde = kernel density estimation)\n",
        "sns.kdeplot(data=df_region, x=\"consumption\", label=\"Data\", color='blue', fill=True)\n",
        "plt.title(region)\n",
        "plt.xlabel(\"Consumption (MW)\")\n",
        "plt.legend()\n",
        "plt.show()"
      ]
    },
    {
      "cell_type": "markdown",
      "id": "045ae627",
      "metadata": {
        "id": "045ae627"
      },
      "source": [
        "## A. Estimation ponctuelle"
      ]
    },
    {
      "cell_type": "markdown",
      "id": "99972e6a",
      "metadata": {
        "id": "99972e6a"
      },
      "source": [
        "Dans l'entité du projet, consomation quotidienne d'electricité est supposée i.i.d., avec la distribution gaussienne.\n",
        "\n",
        "Nous allons utiliser les estimateurs suivants pour la moyenne et la variance, pour $n$ observations $x_1,\\ldots,x_n$ :\n",
        "$$\n",
        "\\hat \\mu = \\frac 1 n \\sum_{i=1}^n x_i\\quad \\hat{\\sigma^2} = \\frac 1 {n-1}\\sum_{i=1}^n (x_i - \\hat \\mu)^2\n",
        "$$\n",
        "L'estimateur correspondant de l'écart-type est :\n",
        "$$\n",
        "\\hat \\sigma = \\sqrt{\\hat{\\sigma^2}}\n",
        "$$\n",
        "\n",
        "Considérons la region Bretagne.\n",
        "\n",
        "**1.** Montrez que les estimateur pour la moyenne et la variance sont sans biais."
      ]
    },
    {
      "cell_type": "markdown",
      "id": "fc43c835",
      "metadata": {
        "id": "fc43c835"
      },
      "source": [
        " Pour démontrer que les estimateurs de la moyenne ($\\hat{\\mu}$) et de la variance ($\\hat{\\sigma}^2$) sont sans biais, on  doit calculer l'espérance de ces estimateurs  et montrer que ces valeurs attendues sont égales aux paramètres réels de la population.\n",
        "\n",
        "**1.1** si on calcule l'espérance de l'estimateur de la variance:\n",
        "\\begin{align*}\n",
        "E(\\hat{\\mu}) = E\\left(\\frac{1}{n} \\sum_{i=1}^n x_i\\right)\n",
        "= \\frac{1}{n} \\sum_{i=1}^n E(x_i)\n",
        "\\end{align*}\n",
        "\n",
        "Étant donné que les $x_i$ sont supposées i.i.d. selon une distribution gaussienne, l'espérance de chaque variable $x_i$ est égale à la véritable moyenne de la population, qui est $\\mu$. alors\n",
        "$$ E(\\hat{\\mu}) = \\frac{1}{n} \\sum_{i=1}^n \\mu = \\frac{n}{n} \\cdot \\mu = \\mu$$\n",
        "\n",
        "L'espérance de l'estimateur de la moyenne étant égale à la véritable moyenne de la population, cela confirme que l'estimateur de la moyenne est sans biais. \\\\\n",
        "**1.2** si on calcule l'espérance de l'estimatuer de la variance:\n",
        "\\begin{align*}\n",
        "E(\\hat{\\sigma^2}) = E\\left(\\frac{1}{n-1} \\sum_{i=1}^n (x_i - \\hat{\\mu})^2\\right) = \\frac{1}{n-1} \\sum_{i=1}^n E((x_i - \\hat{\\mu})^2)\n",
        "\\end{align*}\n",
        "\n",
        "De manière similaire à ce qui a été mentionné précédemment, lorsque les variables aléatoires $x_i$ sont i.i.d., et en tenant compte de certaines propriétés de l`espérance, on développe les termes comme ci-dessous;\n",
        "\n",
        "\\begin{align*}\n",
        "E(\\hat{\\sigma^2}) = \\frac{1}{n-1} E\\left(\\sum_{i=1}^n (x_i - \\hat{\\mu})^2\\right) = \\frac{1}{n-1} E\\left(\\sum_{i=1}^n (x_i^2 - 2 x_i\\hat{\\mu}+ \\hat{\\mu}^2) \\right) = \\frac{1}{n-1} E\\left(\\sum_{i=1}^n (x_i^2) - 2\\hat{\\mu} \\sum_{i=1}^n (x_i) + \\sum_{i=1}^n (\\hat{\\mu}^2) \\right)\n",
        "\\end{align*}\n",
        "\n",
        "\\begin{align*}\n",
        "E(\\hat{\\sigma^2})  = \\frac{1}{n-1} E\\left(\\sum_{i=1}^n (x_i^2) - 2\\hat{\\mu}^2 n + \\hat{\\mu}^2 n \\right)= \\frac{1}{n-1} E\\left(\\sum_{i=1}^n (x_i^2) - \\hat{\\mu}^2 n \\right) = \\frac{1}{n-1} \\sum_{i=1}^n E(x_i^2) - n E(\\hat{\\mu}^2)\n",
        "\\end{align*}\n",
        "\n",
        "\\begin{align*}\n",
        "E(\\hat{\\sigma^2}) = \\frac{1}{n-1} \\sum_{i=1}^n(\\sigma^2 + \\mu^2) - n (\\frac{\\sigma^2}{n} + \\mu^2) = \\frac{1}{n-1} (n\\sigma^2 + n \\mu^2 - n \\sigma^2 - n \\mu^2) =\\frac{1}{n-1} (\\sigma^2(n-1)) = \\sigma^2\n",
        "\\end{align*}\n",
        "\n",
        "\n",
        "L'espérance de l'estimateur de la variance est égale à la variance réelle de la population, ce qui prouve que l'estimateur de la variance est sans biais."
      ]
    },
    {
      "cell_type": "markdown",
      "id": "259c0fed",
      "metadata": {
        "id": "259c0fed"
      },
      "source": [
        "**2.** Donnez les valeurs obtenues pour la moyen et pour la variance en utilisant ces estimateurs."
      ]
    },
    {
      "cell_type": "code",
      "execution_count": null,
      "id": "d51c8554",
      "metadata": {
        "id": "d51c8554",
        "colab": {
          "base_uri": "https://localhost:8080/"
        },
        "outputId": "ee3c0d57-7d30-442c-d008-5a425c2bc1eb"
      },
      "outputs": [
        {
          "output_type": "stream",
          "name": "stdout",
          "text": [
            "En utilisant les estimateurs, la moyenne de la région Bretagne est égale à :2546.536155666579\n",
            "En utilisant les estimateurs, la variance de la région Bretagne est égale à :365956.01414481626\n"
          ]
        }
      ],
      "source": [
        "mean_Bretagne=sum(df_region[\"consumption\"])/len(df_region[\"consumption\"])\n",
        "print(\"En utilisant les estimateurs, la moyenne de la région Bretagne est égale à :\" + str(mean_Bretagne))\n",
        "\n",
        "variance_Bretagne = sum((xi - mean_Bretagne) ** 2 for xi in df_region[\"consumption\"]) / (len(df_region[\"consumption\"])-1)\n",
        "print(\"En utilisant les estimateurs, la variance de la région Bretagne est égale à :\" + str(variance_Bretagne))"
      ]
    },
    {
      "cell_type": "markdown",
      "id": "d0c9e4bf",
      "metadata": {
        "id": "d0c9e4bf"
      },
      "source": [
        "**3.** Générez les nouvelles données en utilisant le modèle gaussien avec ces estimateurs, et avec le même nombre d'observations."
      ]
    },
    {
      "cell_type": "markdown",
      "source": [
        "À partir des valeurs de la moyenne et de la variance trouvées ci-dessus, et du nombre d'échantillons, on peut utiliser la fonction $randon.normal()$ pour générer de nouvelles données."
      ],
      "metadata": {
        "id": "e6DnEVf7VTc6"
      },
      "id": "e6DnEVf7VTc6"
    },
    {
      "cell_type": "code",
      "source": [
        "n=len(df_region[\"consumption\"])\n",
        "sigma=np.sqrt(variance_Bretagne)\n",
        "New_data = np.random.normal(mean_Bretagne,sigma,n)"
      ],
      "metadata": {
        "id": "ffXfhdA21SBE"
      },
      "id": "ffXfhdA21SBE",
      "execution_count": null,
      "outputs": []
    },
    {
      "cell_type": "markdown",
      "id": "87a6506c",
      "metadata": {
        "id": "87a6506c"
      },
      "source": [
        "**4.** Tracez l'estimateur à noyau de la densité  *kde* (kernel density estimate) des données réelles et des données générées sur la même figure."
      ]
    },
    {
      "cell_type": "code",
      "execution_count": null,
      "id": "4bfd9db4",
      "metadata": {
        "id": "4bfd9db4",
        "colab": {
          "base_uri": "https://localhost:8080/",
          "height": 487
        },
        "outputId": "1b4ef91c-7418-432f-db1d-8b9f04d6a08e"
      },
      "outputs": [
        {
          "output_type": "display_data",
          "data": {
            "text/plain": [
              "<Figure size 800x500 with 1 Axes>"
            ],
            "image/png": "[encoded data removed]"
          },
          "metadata": {}
        }
      ],
      "source": [
        "# L'une des méthodes d'estimation de la PDF consiste à utiliser la méthode d'estimation de la densité de Kernel.\n",
        "# Tout d'abord, on commence par l'estimation des données réelles.\n",
        "\n",
        "Data_Consumption=df_region[\"consumption\"]\n",
        "kde_real = gaussian_kde(Data_Consumption)\n",
        "x_real = np.linspace(Data_Consumption.min() - 1, Data_Consumption.max() + 1, n)\n",
        "density_real = kde_real(x_real)\n",
        "\n",
        "# Estimation de la densité des données générées avec KDE\n",
        "kde_new = gaussian_kde(New_data)\n",
        "x_new = np.linspace(New_data.min() - 1, New_data.max() + 1, n)\n",
        "density_new = kde_new(x_new)\n",
        "\n",
        "# Graphique de l'estimateur de la densité du noyau\n",
        "plt.figure(figsize=(8,5))\n",
        "plt.plot(x_real, density_real, label='Données réelles', color='green')\n",
        "plt.plot(x_new, density_new, label='Nouvelles données', color='black')\n",
        "plt.xlabel('Consumption(MW)')\n",
        "plt.ylabel('Density')\n",
        "plt.title('Kernel Density Estimator (KDE) for Real and New Data')\n",
        "plt.legend()\n",
        "plt.show()"
      ]
    },
    {
      "cell_type": "markdown",
      "id": "fc054c89",
      "metadata": {
        "id": "fc054c89"
      },
      "source": [
        "**5.** Répétez la même procédure pour les jours d'hiver (du 22/12 au 21/03), après avoir mis à jour le modèle."
      ]
    },
    {
      "cell_type": "code",
      "execution_count": null,
      "id": "5a67eb62",
      "metadata": {
        "id": "5a67eb62"
      },
      "outputs": [],
      "source": [
        "# La première étape consiste à obtenir des échantillons les jours d'hiver.\n",
        "Region_Date= df_region.copy()\n",
        "Region_Date.sort_values(by='date',ascending=False)\n",
        "\n",
        "# Convert the 'date' column to a datetime data type\n",
        "Region_Date['date'] = pd.to_datetime(Region_Date['date'])\n",
        "\n",
        "# Define the start date (December 22th)\n",
        "start_date = pd.to_datetime('2013-12-22')\n",
        "# Define the end date (March 12th)\n",
        "end_date = pd.to_datetime('2014-03-21')\n",
        "filtered_data_in = Region_Date[(Region_Date['date'] >= start_date) & (Region_Date['date'] <= end_date)]\n",
        "\n",
        "for x in range (2014,2023):\n",
        "  start_date=pd.to_datetime(str(x)+'-12-22')\n",
        "  end_date = pd.to_datetime(str(x+1)+'-03-21')\n",
        "  filtered_data = Region_Date[(Region_Date['date'] >= start_date) & (Region_Date['date'] <= end_date)]\n",
        "  Data_Final=pd.concat([filtered_data_in, filtered_data],axis=0)\n",
        "  # Create a new DataFrame containing only the data within the specified date range\n",
        "  filtered_data_in=Data_Final"
      ]
    },
    {
      "cell_type": "code",
      "source": [
        "# L'une des méthodes d'estimation de la PDF consiste à utiliser la méthode d'estimation de la densité de Kernel.\n",
        "# Tout d'abord, on commence par l'estimation des données réelles.\n",
        "\n",
        "Data_Consumption=Data_Final[\"consumption\"]\n",
        "kde_real_winter = gaussian_kde(Data_Consumption)\n",
        "x_realw = np.linspace(Data_Consumption.min() - 1, Data_Consumption.max() + 1, n)\n",
        "density_realw = kde_real_winter(x_realw)\n",
        "\n",
        "# Génération de données avec les estimateurs de moyenne et de variance\n",
        "new_data_mean = np.mean(Data_Consumption)\n",
        "new_data_std = np.std(Data_Consumption, ddof=1) # Utilisez l'estimateur de la variance\n",
        "New_data_winter = np.random.normal(new_data_mean, new_data_std, n)\n",
        "\n",
        "# Estimation de la densité des données générées avec KDE\n",
        "kde_new_winter = gaussian_kde(New_data_winter)\n",
        "x_new_winter= np.linspace(New_data_winter.min() - 1, New_data_winter.max() + 1, n)\n",
        "density_new_winter = kde_new_winter(x_new_winter)\n",
        "\n",
        "# Graphique de l'estimateur de la densité du noyau\n",
        "plt.figure(figsize=(8,5))\n",
        "plt.plot(x_realw, density_realw, label='Données réelles', color='green')\n",
        "plt.plot(x_new_winter, density_new_winter, label='Nouvelles données', color='black')\n",
        "plt.xlabel('Consumption(MW)')\n",
        "plt.ylabel('Density')\n",
        "plt.title('Kernel Density Estimator (KDE) for Real and New Data')\n",
        "plt.legend()\n",
        "plt.show()"
      ],
      "metadata": {
        "colab": {
          "base_uri": "https://localhost:8080/",
          "height": 487
        },
        "id": "vYJlXmcSJf7U",
        "outputId": "824a10ae-f222-45a0-fd8d-3ad70e22acfc"
      },
      "id": "vYJlXmcSJf7U",
      "execution_count": null,
      "outputs": [
        {
          "output_type": "display_data",
          "data": {
            "text/plain": [
              "<Figure size 800x500 with 1 Axes>"
            ],
            "image/png": "[encoded data removed]"
          },
          "metadata": {}
        }
      ]
    },
    {
      "cell_type": "markdown",
      "id": "2c341977",
      "metadata": {
        "id": "2c341977"
      },
      "source": [
        "**6.** Dans quel des cas l'hypothèse gaussienne est plus appropriée ?"
      ]
    },
    {
      "cell_type": "markdown",
      "source": [
        "**6.1** L'un des cas est celui où la distribution est proche des données réelles : dans certains cas, même si les données ne sont pas strictement gaussiennes, la distribution normale peut être une approximation raisonnable de la distribution réelle. Cela est particulièrement vrai lorsque la distribution des données est symétrique et proche d'une distribution gaussienne. Par exemple, les courbes PDF ci-dessus nous permettent de conclure que les distributions pour les mois d'hiver sont beaucoup plus proches d'une distribution normale que les données pour l'ensemble de l'année.  \n",
        "\n",
        "**6.2** Lorsque les échantillons de données sont de taille assez importante, on suppose généralement que les données sont approximativement gaussiennes en raison du théorème de la limite centrale. Ce théorème énonce que la somme de nombreuses observations indépendantes et identiquement distribuées tend à converger vers une distribution normale (gaussienne)\n"
      ],
      "metadata": {
        "id": "MdNKTXtHP3Rf"
      },
      "id": "MdNKTXtHP3Rf"
    },
    {
      "cell_type": "markdown",
      "id": "3b396ff6",
      "metadata": {
        "id": "3b396ff6"
      },
      "source": [
        "## B. Goodness of fit"
      ]
    },
    {
      "cell_type": "markdown",
      "id": "b5d39610",
      "metadata": {
        "id": "b5d39610"
      },
      "source": [
        "On souhaite confirmer et quantifier l'observation de la partie A.\n",
        "\n",
        "Nous proposons la mesure de dissimilarité suivante, qui se base sur deux fonctionnes de répartitions $f$ et $g$:\n",
        "$$\n",
        "d(f, g) = \\frac 1 2 \\int |f(x) - g(x)| \\mathrm dx.\n",
        "$$"
      ]
    },
    {
      "cell_type": "markdown",
      "id": "87b5684d",
      "metadata": {
        "id": "87b5684d"
      },
      "source": [
        "**1.** Montrez que $d(f,g) \\in [0,1]$, avec $d(f,g)=0$ si et seulement si $f=g$ presque partout (pour la mesure de Lebesgue) et $d(f,g)=1$ si et seulement si $f$ et $g$ possèdent des supports disjoints."
      ]
    },
    {
      "cell_type": "markdown",
      "id": "397f4544",
      "metadata": {
        "id": "397f4544"
      },
      "source": [
        "  **1.1** Démontrons que $d(f, g) \\in [0, 1]$ : Toute fonction a une valeur absolue qui est toujours positive ou nulle, ce qui signifie que $|f(x) - g(x)| \\geq 0$, En intégrant une quantité positive ou nulle, la valeur de $d(f, g)$ est toujours positive ou nulle. Le fait de multiplier par $1/2$ à l'extérieur de l'intégrale n'affecte pas le fait que $d(f,g)$ est toujours positif ou nul. Ainsi, $ 0 \\leq d(f, g) \\leq 1 $ \\\\\n",
        "  **1.2**  Alors si $d(f, g) = 0$  cela signifie que l'intégrale de $|f(x) - g(x)|=0$ par laquelle $|f(x) - g(x)| = 0$ presque partout, c'est-à-dire que\n",
        "  $f(x)=g(x)$ quasiment en tout pour la mesure de Lebesgue.  \n",
        "  **1.3** si $d(f, g) = 1$ cela signifie que l'intégrale de $|f(x) - g(x)|=1$ Par conséquent, la différence entre $f(x)$ et $g(x)$ est non nulle dans au moins une région non triviale de l'espace (pour la mesure de Lebesgue). En d'autres termes, les fonctions $f$ et $g$ ont des supports disjoints.\n",
        "\n",
        "  Finalement, on a démontré que $d(f, g) \\in [0, 1]$ et que $d(f, g) = 0$ si et seulement si $f=g$ quasiment en tout pour la mesure de Lebesgue, et $d(f, g) = 1$ si et seulement si $f$ et $g$ possèdent des supports disjoints."
      ]
    },
    {
      "cell_type": "markdown",
      "id": "ae7d158a",
      "metadata": {
        "id": "ae7d158a"
      },
      "source": [
        "**2.** Pour la région Bretagne, calculez la dissimilarité entre le *kde* des données réelles et de la densité du modèle gaussien."
      ]
    },
    {
      "cell_type": "code",
      "source": [
        "# Comme nous avons déjà calculé les KDE dans la section A et pris en compte la mesure de dissimilarité, on peut procéder à l'intégration numérique.\n",
        "from scipy.integrate import quad\n",
        "# Intégrande de la dissimilarité\n",
        "integrand = lambda x: (1/2) * abs(kde_real(x) - kde_new(x))\n",
        "# Calculez la dissimilarité en effectuant l'intégration numérique\n",
        "dissimilarity, _ = quad(integrand, x_real.min(), x_real.max())\n",
        "\n",
        "# La valeur de \"dissimilarity\" représente la dissimilarité entre le KDE des données réelles et la densité des nouvelles données.\n",
        "print(\"la dissimilarité entre le KDE des des données réelles et de la densité du modèle gaussien est égale à :\" + str(dissimilarity))"
      ],
      "metadata": {
        "id": "YpfcecYXuLPN",
        "colab": {
          "base_uri": "https://localhost:8080/"
        },
        "outputId": "d10196cf-25f4-4903-b29c-cca11a4e9e85"
      },
      "id": "YpfcecYXuLPN",
      "execution_count": null,
      "outputs": [
        {
          "output_type": "stream",
          "name": "stdout",
          "text": [
            "la dissimilarité entre le KDE des des données réelles et de la densité du modèle gaussien est égale à :0.15978408600256985\n"
          ]
        }
      ]
    },
    {
      "cell_type": "markdown",
      "id": "f8817106",
      "metadata": {
        "id": "f8817106"
      },
      "source": [
        "**3.** Répétez la même procedure pour la région Bretagne en hiver et verifiez votre conclusion de la partie A."
      ]
    },
    {
      "cell_type": "code",
      "execution_count": null,
      "id": "7b15a902",
      "metadata": {
        "id": "7b15a902",
        "colab": {
          "base_uri": "https://localhost:8080/"
        },
        "outputId": "3e95523f-88bc-46f3-f830-a46f5468476f"
      },
      "outputs": [
        {
          "output_type": "stream",
          "name": "stdout",
          "text": [
            "la dissimilarité entre le KDE des des données réelles et de la densité du modèle gaussien est égale à :0.03775160395346713\n"
          ]
        }
      ],
      "source": [
        "# Comme nous avons déjà calculé les KDE dans la section A et pris en compte la mesure de dissimilarité, on peut procéder à l'intégration numérique.\n",
        "# Intégrande de la dissimilarité\n",
        "integrand = lambda x: (1/2) * abs(kde_real_winter(x) - kde_new_winter(x))\n",
        "\n",
        "# Calculez la dissimilarité en effectuant l'intégration numérique\n",
        "dissimilarity, _ = quad(integrand, x_realw.min(), x_realw.max())\n",
        "\n",
        "# La valeur de \"dissimilarity\" représente la dissimilarité entre le KDE des données réelles et la densité des nouvelles données.\n",
        "print(\"la dissimilarité entre le KDE des des données réelles et de la densité du modèle gaussien est égale à :\" + str(dissimilarity))"
      ]
    },
    {
      "cell_type": "markdown",
      "source": [
        "En rappelant que on conclut que les distributions des mois d'hiver sont beaucoup plus proches d'une distribution normale que les données de toute l'année. Ceci est corroboré par le fait que la mesure de dissimilarité est beaucoup plus petite pour les mois d'hiver, ce qui indique que les fonctions de densité sont très proches l'une de l'autre."
      ],
      "metadata": {
        "id": "wKLYbMtk4RsD"
      },
      "id": "wKLYbMtk4RsD"
    },
    {
      "cell_type": "markdown",
      "id": "7d78fec0",
      "metadata": {
        "id": "7d78fec0"
      },
      "source": [
        "**4.** Répétez la même procedure pour toutes régions. Présentez le résultat dans un seul dataframe."
      ]
    },
    {
      "cell_type": "code",
      "execution_count": null,
      "id": "fef07b23",
      "metadata": {
        "id": "fef07b23",
        "colab": {
          "base_uri": "https://localhost:8080/"
        },
        "outputId": "f044dcf6-b1c7-4285-d427-e0f37264d349"
      },
      "outputs": [
        {
          "output_type": "stream",
          "name": "stderr",
          "text": [
            "<ipython-input-50-55ed6a1845cd>:25: IntegrationWarning: The maximum number of subdivisions (50) has been achieved.\n",
            "  If increasing the limit yields no improvement it is advised to analyze \n",
            "  the integrand in order to determine the difficulties.  If the position of a \n",
            "  local difficulty can be determined (singularity, discontinuity) one will \n",
            "  probably gain from splitting up the interval and calling the integrator \n",
            "  on the subranges.  Perhaps a special-purpose integrator should be used.\n",
            "  dissimilarities[key], _ = quad(integrand, x_real.min(), x_real.max())\n"
          ]
        }
      ],
      "source": [
        "# Créer des dataframes pour toutes les régions\n",
        "dataframe_collection = {}\n",
        "count=0\n",
        "for regionm in regions:\n",
        "  dataframe_collection[count]=df[df.region == regionm]\n",
        "  count=count+1\n",
        "\n",
        "dissimilarities=np.zeros(12)\n",
        "\n",
        "for key in dataframe_collection.keys():\n",
        "  Data_Consumption=dataframe_collection[key][\"consumption\"]\n",
        "  kde_real = gaussian_kde(Data_Consumption)\n",
        "  x_real = np.linspace(Data_Consumption.min() - 1, Data_Consumption.max() + 1, len(Data_Consumption))\n",
        "  density_real = kde_real(x_real)\n",
        "  # Génération de données avec les estimateurs de moyenne et de variance\n",
        "  new_data_mean = np.mean(Data_Consumption)\n",
        "  new_data_std = np.std(Data_Consumption, ddof=1) # Utilisez l'estimateur de la variance\n",
        "  New_data= np.random.normal(new_data_mean, new_data_std, len(Data_Consumption))\n",
        "  # Estimation de la densité des données générées avec KDE\n",
        "  kde_new = gaussian_kde(New_data)\n",
        "  x_new = np.linspace(New_data.min() - 1, New_data.max() + 1, len(Data_Consumption))\n",
        "  density_new = kde_new(x_new)\n",
        "  # Calcule de la dissimilarité en effectuant l'intégration numérique\n",
        "  integrand = lambda x: (1/2) * abs(kde_real(x) - kde_new(x))\n",
        "  dissimilarities[key], _ = quad(integrand, x_real.min(), x_real.max())"
      ]
    },
    {
      "cell_type": "code",
      "execution_count": null,
      "metadata": {
        "colab": {
          "base_uri": "https://localhost:8080/",
          "height": 553
        },
        "id": "SIJ0jRCcMdTO",
        "outputId": "ee1943a9-cb43-4462-f5aa-d7c81e254992"
      },
      "outputs": [
        {
          "output_type": "stream",
          "name": "stderr",
          "text": [
            "<ipython-input-53-4844a6c7bdd6>:38: IntegrationWarning: The maximum number of subdivisions (50) has been achieved.\n",
            "  If increasing the limit yields no improvement it is advised to analyze \n",
            "  the integrand in order to determine the difficulties.  If the position of a \n",
            "  local difficulty can be determined (singularity, discontinuity) one will \n",
            "  probably gain from splitting up the interval and calling the integrator \n",
            "  on the subranges.  Perhaps a special-purpose integrator should be used.\n",
            "  dissimilarities_Winter[key], _ = quad(integrand, x_real.min(), x_real.max())\n"
          ]
        },
        {
          "output_type": "execute_result",
          "data": {
            "text/plain": [
              "                        region Mesure de dissimilarité  \\\n",
              "0         Auvergne-Rhône-Alpes      0.1455049078914938   \n",
              "1      Bourgogne-Franche-Comté     0.11367354251146065   \n",
              "2                     Bretagne     0.16871805473933243   \n",
              "3          Centre-Val de Loire       0.166005344378715   \n",
              "4                    Grand Est     0.11044889612391334   \n",
              "5              Hauts-de-France     0.12606415952225228   \n",
              "6                    Normandie       0.161165143019745   \n",
              "7           Nouvelle-Aquitaine     0.18568812378904992   \n",
              "8                    Occitanie     0.19163328410048563   \n",
              "9             Pays de la Loire     0.13779152646921908   \n",
              "10  Provence-Alpes-Côte d'Azur     0.21873907811380694   \n",
              "11               Île-de-France     0.16556179343960192   \n",
              "\n",
              "   Mesure de dissimilarité Winter  \n",
              "0             0.02620894321918034  \n",
              "1            0.030285782360838256  \n",
              "2              0.0454396912721295  \n",
              "3            0.037134184208420434  \n",
              "4              0.0433518474886902  \n",
              "5             0.03902186475870456  \n",
              "6            0.030604603924243315  \n",
              "7             0.06916798125067534  \n",
              "8             0.06480490446311063  \n",
              "9             0.04156353330508484  \n",
              "10           0.027999562383483768  \n",
              "11            0.05336193996322358  "
            ],
            "text/html": [
              "\n",
              "  <div id=\"df-961c60a2-29b7-4a05-964e-9710ad387975\" class=\"colab-df-container\">\n",
              "    <div>\n",
              "<style scoped>\n",
              "    .dataframe tbody tr th:only-of-type {\n",
              "        vertical-align: middle;\n",
              "    }\n",
              "\n",
              "    .dataframe tbody tr th {\n",
              "        vertical-align: top;\n",
              "    }\n",
              "\n",
              "    .dataframe thead th {\n",
              "        text-align: right;\n",
              "    }\n",
              "</style>\n",
              "<table border=\"1\" class=\"dataframe\">\n",
              "  <thead>\n",
              "    <tr style=\"text-align: right;\">\n",
              "      <th></th>\n",
              "      <th>region</th>\n",
              "      <th>Mesure de dissimilarité</th>\n",
              "      <th>Mesure de dissimilarité Winter</th>\n",
              "    </tr>\n",
              "  </thead>\n",
              "  <tbody>\n",
              "    <tr>\n",
              "      <th>0</th>\n",
              "      <td>Auvergne-Rhône-Alpes</td>\n",
              "      <td>0.1455049078914938</td>\n",
              "      <td>0.02620894321918034</td>\n",
              "    </tr>\n",
              "    <tr>\n",
              "      <th>1</th>\n",
              "      <td>Bourgogne-Franche-Comté</td>\n",
              "      <td>0.11367354251146065</td>\n",
              "      <td>0.030285782360838256</td>\n",
              "    </tr>\n",
              "    <tr>\n",
              "      <th>2</th>\n",
              "      <td>Bretagne</td>\n",
              "      <td>0.16871805473933243</td>\n",
              "      <td>0.0454396912721295</td>\n",
              "    </tr>\n",
              "    <tr>\n",
              "      <th>3</th>\n",
              "      <td>Centre-Val de Loire</td>\n",
              "      <td>0.166005344378715</td>\n",
              "      <td>0.037134184208420434</td>\n",
              "    </tr>\n",
              "    <tr>\n",
              "      <th>4</th>\n",
              "      <td>Grand Est</td>\n",
              "      <td>0.11044889612391334</td>\n",
              "      <td>0.0433518474886902</td>\n",
              "    </tr>\n",
              "    <tr>\n",
              "      <th>5</th>\n",
              "      <td>Hauts-de-France</td>\n",
              "      <td>0.12606415952225228</td>\n",
              "      <td>0.03902186475870456</td>\n",
              "    </tr>\n",
              "    <tr>\n",
              "      <th>6</th>\n",
              "      <td>Normandie</td>\n",
              "      <td>0.161165143019745</td>\n",
              "      <td>0.030604603924243315</td>\n",
              "    </tr>\n",
              "    <tr>\n",
              "      <th>7</th>\n",
              "      <td>Nouvelle-Aquitaine</td>\n",
              "      <td>0.18568812378904992</td>\n",
              "      <td>0.06916798125067534</td>\n",
              "    </tr>\n",
              "    <tr>\n",
              "      <th>8</th>\n",
              "      <td>Occitanie</td>\n",
              "      <td>0.19163328410048563</td>\n",
              "      <td>0.06480490446311063</td>\n",
              "    </tr>\n",
              "    <tr>\n",
              "      <th>9</th>\n",
              "      <td>Pays de la Loire</td>\n",
              "      <td>0.13779152646921908</td>\n",
              "      <td>0.04156353330508484</td>\n",
              "    </tr>\n",
              "    <tr>\n",
              "      <th>10</th>\n",
              "      <td>Provence-Alpes-Côte d'Azur</td>\n",
              "      <td>0.21873907811380694</td>\n",
              "      <td>0.027999562383483768</td>\n",
              "    </tr>\n",
              "    <tr>\n",
              "      <th>11</th>\n",
              "      <td>Île-de-France</td>\n",
              "      <td>0.16556179343960192</td>\n",
              "      <td>0.05336193996322358</td>\n",
              "    </tr>\n",
              "  </tbody>\n",
              "</table>\n",
              "</div>\n",
              "    <div class=\"colab-df-buttons\">\n",
              "\n",
              "  <div class=\"colab-df-container\">\n",
              "    <button class=\"colab-df-convert\" onclick=\"convertToInteractive('df-961c60a2-29b7-4a05-964e-9710ad387975')\"\n",
              "            title=\"Convert this dataframe to an interactive table.\"\n",
              "            style=\"display:none;\">\n",
              "\n",
              "  <svg xmlns=\"http://www.w3.org/2000/svg\" height=\"24px\" viewBox=\"0 -960 960 960\">\n",
              "    <path d=\"M120-120v-720h720v720H120Zm60-500h600v-160H180v160Zm220 220h160v-160H400v160Zm0 220h160v-160H400v160ZM180-400h160v-160H180v160Zm440 0h160v-160H620v160ZM180-180h160v-160H180v160Zm440 0h160v-160H620v160Z\"/>\n",
              "  </svg>\n",
              "    </button>\n",
              "\n",
              "  <style>\n",
              "    .colab-df-container {\n",
              "      display:flex;\n",
              "      gap: 12px;\n",
              "    }\n",
              "\n",
              "    .colab-df-convert {\n",
              "      background-color: #E8F0FE;\n",
              "      border: none;\n",
              "      border-radius: 50%;\n",
              "      cursor: pointer;\n",
              "      display: none;\n",
              "      fill: #1967D2;\n",
              "      height: 32px;\n",
              "      padding: 0 0 0 0;\n",
              "      width: 32px;\n",
              "    }\n",
              "\n",
              "    .colab-df-convert:hover {\n",
              "      background-color: #E2EBFA;\n",
              "      box-shadow: 0px 1px 2px rgba(60, 64, 67, 0.3), 0px 1px 3px 1px rgba(60, 64, 67, 0.15);\n",
              "      fill: #174EA6;\n",
              "    }\n",
              "\n",
              "    .colab-df-buttons div {\n",
              "      margin-bottom: 4px;\n",
              "    }\n",
              "\n",
              "    [theme=dark] .colab-df-convert {\n",
              "      background-color: #3B4455;\n",
              "      fill: #D2E3FC;\n",
              "    }\n",
              "\n",
              "    [theme=dark] .colab-df-convert:hover {\n",
              "      background-color: #434B5C;\n",
              "      box-shadow: 0px 1px 3px 1px rgba(0, 0, 0, 0.15);\n",
              "      filter: drop-shadow(0px 1px 2px rgba(0, 0, 0, 0.3));\n",
              "      fill: #FFFFFF;\n",
              "    }\n",
              "  </style>\n",
              "\n",
              "    <script>\n",
              "      const buttonEl =\n",
              "        document.querySelector('#df-961c60a2-29b7-4a05-964e-9710ad387975 button.colab-df-convert');\n",
              "      buttonEl.style.display =\n",
              "        google.colab.kernel.accessAllowed ? 'block' : 'none';\n",
              "\n",
              "      async function convertToInteractive(key) {\n",
              "        const element = document.querySelector('#df-961c60a2-29b7-4a05-964e-9710ad387975');\n",
              "        const dataTable =\n",
              "          await google.colab.kernel.invokeFunction('convertToInteractive',\n",
              "                                                    [key], {});\n",
              "        if (!dataTable) return;\n",
              "\n",
              "        const docLinkHtml = 'Like what you see? Visit the ' +\n",
              "          '<a target=\"_blank\" href=https://colab.research.google.com/notebooks/data_table.ipynb>data table notebook</a>'\n",
              "          + ' to learn more about interactive tables.';\n",
              "        element.innerHTML = '';\n",
              "        dataTable['output_type'] = 'display_data';\n",
              "        await google.colab.output.renderOutput(dataTable, element);\n",
              "        const docLink = document.createElement('div');\n",
              "        docLink.innerHTML = docLinkHtml;\n",
              "        element.appendChild(docLink);\n",
              "      }\n",
              "    </script>\n",
              "  </div>\n",
              "\n",
              "\n",
              "<div id=\"df-5fccb016-19b4-4555-8bf2-2d6098bd9f05\">\n",
              "  <button class=\"colab-df-quickchart\" onclick=\"quickchart('df-5fccb016-19b4-4555-8bf2-2d6098bd9f05')\"\n",
              "            title=\"Suggest charts.\"\n",
              "            style=\"display:none;\">\n",
              "\n",
              "<svg xmlns=\"http://www.w3.org/2000/svg\" height=\"24px\"viewBox=\"0 0 24 24\"\n",
              "     width=\"24px\">\n",
              "    <g>\n",
              "        <path d=\"M19 3H5c-1.1 0-2 .9-2 2v14c0 1.1.9 2 2 2h14c1.1 0 2-.9 2-2V5c0-1.1-.9-2-2-2zM9 17H7v-7h2v7zm4 0h-2V7h2v10zm4 0h-2v-4h2v4z\"/>\n",
              "    </g>\n",
              "</svg>\n",
              "  </button>\n",
              "\n",
              "<style>\n",
              "  .colab-df-quickchart {\n",
              "      --bg-color: #E8F0FE;\n",
              "      --fill-color: #1967D2;\n",
              "      --hover-bg-color: #E2EBFA;\n",
              "      --hover-fill-color: #174EA6;\n",
              "      --disabled-fill-color: #AAA;\n",
              "      --disabled-bg-color: #DDD;\n",
              "  }\n",
              "\n",
              "  [theme=dark] .colab-df-quickchart {\n",
              "      --bg-color: #3B4455;\n",
              "      --fill-color: #D2E3FC;\n",
              "      --hover-bg-color: #434B5C;\n",
              "      --hover-fill-color: #FFFFFF;\n",
              "      --disabled-bg-color: #3B4455;\n",
              "      --disabled-fill-color: #666;\n",
              "  }\n",
              "\n",
              "  .colab-df-quickchart {\n",
              "    background-color: var(--bg-color);\n",
              "    border: none;\n",
              "    border-radius: 50%;\n",
              "    cursor: pointer;\n",
              "    display: none;\n",
              "    fill: var(--fill-color);\n",
              "    height: 32px;\n",
              "    padding: 0;\n",
              "    width: 32px;\n",
              "  }\n",
              "\n",
              "  .colab-df-quickchart:hover {\n",
              "    background-color: var(--hover-bg-color);\n",
              "    box-shadow: 0 1px 2px rgba(60, 64, 67, 0.3), 0 1px 3px 1px rgba(60, 64, 67, 0.15);\n",
              "    fill: var(--button-hover-fill-color);\n",
              "  }\n",
              "\n",
              "  .colab-df-quickchart-complete:disabled,\n",
              "  .colab-df-quickchart-complete:disabled:hover {\n",
              "    background-color: var(--disabled-bg-color);\n",
              "    fill: var(--disabled-fill-color);\n",
              "    box-shadow: none;\n",
              "  }\n",
              "\n",
              "  .colab-df-spinner {\n",
              "    border: 2px solid var(--fill-color);\n",
              "    border-color: transparent;\n",
              "    border-bottom-color: var(--fill-color);\n",
              "    animation:\n",
              "      spin 1s steps(1) infinite;\n",
              "  }\n",
              "\n",
              "  @keyframes spin {\n",
              "    0% {\n",
              "      border-color: transparent;\n",
              "      border-bottom-color: var(--fill-color);\n",
              "      border-left-color: var(--fill-color);\n",
              "    }\n",
              "    20% {\n",
              "      border-color: transparent;\n",
              "      border-left-color: var(--fill-color);\n",
              "      border-top-color: var(--fill-color);\n",
              "    }\n",
              "    30% {\n",
              "      border-color: transparent;\n",
              "      border-left-color: var(--fill-color);\n",
              "      border-top-color: var(--fill-color);\n",
              "      border-right-color: var(--fill-color);\n",
              "    }\n",
              "    40% {\n",
              "      border-color: transparent;\n",
              "      border-right-color: var(--fill-color);\n",
              "      border-top-color: var(--fill-color);\n",
              "    }\n",
              "    60% {\n",
              "      border-color: transparent;\n",
              "      border-right-color: var(--fill-color);\n",
              "    }\n",
              "    80% {\n",
              "      border-color: transparent;\n",
              "      border-right-color: var(--fill-color);\n",
              "      border-bottom-color: var(--fill-color);\n",
              "    }\n",
              "    90% {\n",
              "      border-color: transparent;\n",
              "      border-bottom-color: var(--fill-color);\n",
              "    }\n",
              "  }\n",
              "</style>\n",
              "\n",
              "  <script>\n",
              "    async function quickchart(key) {\n",
              "      const quickchartButtonEl =\n",
              "        document.querySelector('#' + key + ' button');\n",
              "      quickchartButtonEl.disabled = true;  // To prevent multiple clicks.\n",
              "      quickchartButtonEl.classList.add('colab-df-spinner');\n",
              "      try {\n",
              "        const charts = await google.colab.kernel.invokeFunction(\n",
              "            'suggestCharts', [key], {});\n",
              "      } catch (error) {\n",
              "        console.error('Error during call to suggestCharts:', error);\n",
              "      }\n",
              "      quickchartButtonEl.classList.remove('colab-df-spinner');\n",
              "      quickchartButtonEl.classList.add('colab-df-quickchart-complete');\n",
              "    }\n",
              "    (() => {\n",
              "      let quickchartButtonEl =\n",
              "        document.querySelector('#df-5fccb016-19b4-4555-8bf2-2d6098bd9f05 button');\n",
              "      quickchartButtonEl.style.display =\n",
              "        google.colab.kernel.accessAllowed ? 'block' : 'none';\n",
              "    })();\n",
              "  </script>\n",
              "</div>\n",
              "    </div>\n",
              "  </div>\n"
            ]
          },
          "metadata": {},
          "execution_count": 53
        }
      ],
      "source": [
        "dataframe_collection_Winter = {}\n",
        "dissimilarities_Winter=np.zeros(12)\n",
        "for key in dataframe_collection.keys():\n",
        "  # La première étape consiste à obtenir des échantillons les jours d'hiver.\n",
        "  Region_Date= dataframe_collection[key].copy()\n",
        "  Region_Date.sort_values(by='date',ascending=False)\n",
        "  # Convert the 'date' column to a datetime data type\n",
        "  Region_Date['date'] = pd.to_datetime(Region_Date['date'])\n",
        "  # Define the start date (December 22th)\n",
        "  start_date = pd.to_datetime('2013-12-22')\n",
        "  # Define the end date (March 12th)\n",
        "  end_date = pd.to_datetime('2014-03-21')\n",
        "  filtered_data_in = Region_Date[(Region_Date['date'] >= start_date) & (Region_Date['date'] <= end_date)]\n",
        "  for x in range (2014,2023):\n",
        "    start_date=pd.to_datetime(str(x)+'-12-22')\n",
        "    end_date = pd.to_datetime(str(x+1)+'-03-21')\n",
        "    filtered_data = Region_Date[(Region_Date['date'] >= start_date) & (Region_Date['date'] <= end_date)]\n",
        "    Data_Final=pd.concat([filtered_data_in, filtered_data],axis=0)\n",
        "    # Create a new DataFrame containing only the data within the specified date range\n",
        "    filtered_data_in=Data_Final\n",
        "  dataframe_collection_Winter[key]=Data_Final\n",
        "\n",
        "for key in dataframe_collection.keys():\n",
        "  Data_Consumption=dataframe_collection_Winter[key][\"consumption\"]\n",
        "  kde_real = gaussian_kde(Data_Consumption)\n",
        "  x_real = np.linspace(Data_Consumption.min() - 1, Data_Consumption.max() + 1, len(Data_Consumption))\n",
        "  density_real = kde_real(x_real)\n",
        "  # Génération de données avec les estimateurs de moyenne et de variance\n",
        "  new_data_mean = np.mean(Data_Consumption)\n",
        "  new_data_std = np.std(Data_Consumption, ddof=1) # Utilisez l'estimateur de la variance\n",
        "  New_data= np.random.normal(new_data_mean, new_data_std, len(Data_Consumption))\n",
        "  # Estimation de la densité des données générées avec KDE\n",
        "  kde_new = gaussian_kde(New_data)\n",
        "  x_new = np.linspace(New_data.min() - 1, New_data.max() + 1, len(Data_Consumption))\n",
        "  density_new = kde_new(x_new)\n",
        "  # Calcule de la dissimilarité en effectuant l'intégration numérique\n",
        "  integrand = lambda x: (1/2) * abs(kde_real(x) - kde_new(x))\n",
        "  dissimilarities_Winter[key], _ = quad(integrand, x_real.min(), x_real.max())\n",
        "\n",
        "\n",
        "columns2 = [\"region\", \"Mesure de dissimilarité\",\"Mesure de dissimilarité Winter\" ]\n",
        "NData=np.transpose(np.array([regions,dissimilarities, dissimilarities_Winter]))\n",
        "M_Dataframe = pd.DataFrame(data=NData,columns=columns2)\n",
        "M_Dataframe"
      ],
      "id": "SIJ0jRCcMdTO"
    },
    {
      "cell_type": "markdown",
      "id": "3f0d3f61",
      "metadata": {
        "id": "3f0d3f61"
      },
      "source": [
        "**5.** Quelle région a le meilleur *fit* avec le modèle gaussien en hiver ?"
      ]
    },
    {
      "cell_type": "markdown",
      "source": [
        "La région présentant le meilleure *fit* pour le modèle gaussien en hiver est: Auvergne-Rhône-Alpes"
      ],
      "metadata": {
        "id": "Nk3GzuwNRtL3"
      },
      "id": "Nk3GzuwNRtL3"
    },
    {
      "cell_type": "markdown",
      "id": "aff086e4",
      "metadata": {
        "id": "aff086e4"
      },
      "source": [
        "**6.** Pour ces région et saison, tracez le *kde* des données réelles et le *kde* des données générées sur le même graphique."
      ]
    },
    {
      "cell_type": "code",
      "source": [
        "# Tout d'abord, nous trouvons l'estimateur KDE pour l'ensemble des données de l'année.\n",
        "Data_Consumption=dataframe_collection[0][\"consumption\"]\n",
        "kde_real = gaussian_kde(Data_Consumption)\n",
        "x_real = np.linspace(Data_Consumption.min() - 1, Data_Consumption.max() + 1, len(Data_Consumption))\n",
        "density_real = kde_real(x_real)\n",
        "# Génération de données avec les estimateurs de moyenne et de variance\n",
        "new_data_mean = np.mean(Data_Consumption)\n",
        "new_data_std = np.std(Data_Consumption, ddof=1) # Utilisez l'estimateur de la variance\n",
        "New_data= np.random.normal(new_data_mean, new_data_std, len(Data_Consumption))\n",
        "# Estimation de la densité des données générées avec KDE\n",
        "kde_new = gaussian_kde(New_data)\n",
        "x_new = np.linspace(New_data.min() - 1, New_data.max() + 1, len(Data_Consumption))\n",
        "density_new = kde_new(x_new)\n",
        "\n",
        "Data_ConsumptionB=dataframe_collection_Winter[1][\"consumption\"]\n",
        "kde_realB = gaussian_kde(Data_ConsumptionB)\n",
        "x_realB = np.linspace(Data_ConsumptionB.min() - 1, Data_ConsumptionB.max() + 1, len(Data_ConsumptionB))\n",
        "density_realB = kde_realB(x_realB)\n",
        "# Génération de données avec les estimateurs de moyenne et de variance\n",
        "new_data_mean = np.mean(Data_ConsumptionB)\n",
        "new_data_std = np.std(Data_ConsumptionB, ddof=1) # Utilisez l'estimateur de la variance\n",
        "New_dataB= np.random.normal(new_data_mean, new_data_std, len(Data_ConsumptionB))\n",
        "# Estimation de la densité des données générées avec KDE\n",
        "kde_newB = gaussian_kde(New_dataB)\n",
        "x_newB = np.linspace(New_dataB.min() - 1, New_dataB.max() + 1, len(Data_ConsumptionB))\n",
        "density_newB = kde_newB(x_newB)\n",
        "\n",
        "# Graphique de l'estimateur de la densité du noyau\n",
        "# Créez une figure avec deux sous-graphiques disposés horizontalement\n",
        "fig, (ax1, ax2) = plt.subplots(1, 2, figsize=(12, 5))\n",
        "\n",
        "# Tracez le KDE pour les données réelles et les nouvelles données dans le premier sous-graphique (ax1)\n",
        "ax1.plot(x_real, density_real, label='Données réelles', color='green')\n",
        "ax1.plot(x_new, density_new, label='Nouvelles données', color='black')\n",
        "ax1.set_xlabel('Consommation (MW)')\n",
        "ax1.set_ylabel('Densité')\n",
        "ax1.set_title('(KDE) en dans la région de Bourgogne-Franche-Comté ')\n",
        "ax1.legend()\n",
        "\n",
        "# Tracez le KDE pour les données réelles et les nouvelles données dans le deuxième sous-graphique (ax2)\n",
        "ax2.plot(x_realB, density_realB, label='Données réelles', color='green')\n",
        "ax2.plot(x_newB, density_newB, label='Nouvelles données', color='black')\n",
        "ax2.set_xlabel('Consommation (MW)')\n",
        "ax2.set_ylabel('Densité')\n",
        "ax2.set_title('(KDE) en dans la région de Bourgogne-Franche-Comté (Hiver)')\n",
        "ax2.legend()\n",
        "\n",
        "# Ajustez l'espacement entre les sous-graphiques\n",
        "plt.tight_layout()\n",
        "plt.show()\n",
        "\n",
        "\n"
      ],
      "metadata": {
        "colab": {
          "base_uri": "https://localhost:8080/",
          "height": 507
        },
        "id": "eGqAGld1Ttzq",
        "outputId": "785ded2b-d0f0-492d-ddf9-01a25a5f8ac3"
      },
      "id": "eGqAGld1Ttzq",
      "execution_count": null,
      "outputs": [
        {
          "output_type": "display_data",
          "data": {
            "text/plain": [
              "<Figure size 1200x500 with 2 Axes>"
            ],
            "image/png": "[encoded data removed]"
          },
          "metadata": {}
        }
      ]
    },
    {
      "cell_type": "markdown",
      "id": "838fb2d1",
      "metadata": {
        "id": "838fb2d1"
      },
      "source": [
        "## C. Statistique bayésienne"
      ]
    },
    {
      "cell_type": "markdown",
      "id": "92daddb8",
      "metadata": {
        "id": "92daddb8"
      },
      "source": [
        "On souhaite inclure la connaissance a priori sur l'estimation, en utilisant la statistique bayésienne.\n",
        "\n",
        "Considérez la région Bretagne en hiver. On se focalise sur la moyenne $\\mu$, en supposant que l'écart-type est connu et egal à $\\sigma=400$MW. Supposons la loi a priori sur $\\mu$ avec moyenne $\\mu_0=3500$MW et l'écart-type $\\sigma_0=500$MW.\n",
        "\n",
        "**1.** Donnez la loi a posteriori pour $\\mu$, en utilisant les paramètres $\\sigma$, $\\mu_0$, $\\sigma_0$ et $n$ observations $x_1,\\ldots,x_n$."
      ]
    },
    {
      "cell_type": "markdown",
      "id": "2d66e4b9",
      "metadata": {
        "id": "2d66e4b9"
      },
      "source": [
        "La distribution a posteriori pour $\\mu$ est modelée comme une distribution normale (gaussienne) lorsque les distributions a priori et de vraisemblance sont également gaussiennes. Cette distribution a posteriori est obtenue en appliquant le théorème de Bayes:\n",
        "\n",
        "$$ \\text{Posterior}(\\mu | x_1, x_2, \\ldots, x_n) \\propto \\text{Prior}(\\mu) \\times \\text{Likelihood}(\\mu)$$\n",
        "\n",
        "Où: $\\text{Posterior}(\\mu | x_1, x_2, \\ldots, x_n)$ est la loi a posteriori pour $\\mu$ compte tenu des données observées $x_1, x_2, \\ldots, x_n$.\n",
        "\n",
        "$\\text{Prior}(\\mu)$ est la distribution a priori pour $\\mu, \\mathcal{N}(\\mu_0, \\sigma_0^2)$, avec $\\mu_0 = 3500$ MW et $\\sigma_0 = 500$ MW. et\n",
        "\n",
        "\n",
        "$$\\text{Likelihood}(\\mu) = \\prod_{i=1}^{n} \\frac{1}{\\sqrt{2\\pi}\\sigma} \\exp\\left(-\\frac{(x_i - \\mu)^2}{2\\sigma^2}\\right)$$\n",
        "\n",
        "En utilisant la distribution a priori et la distribution de vraisemblance, qui sont toutes deux gaussiennes, on peut déterminer la distribution a posteriori. Cette distribution pour la moyenne $\\mu$ restera également gaussienne. Un élément essentiel de cette distribution est sa moyenne (l'espérance), qui est calculée comme suit :\n",
        "\n",
        "$$\\mu_{\\text{posterior}} = \\frac{\\sigma^2}{\\sigma_0^2 + \\frac{\\sigma^2}{n}}\\mu_0 + \\frac{\\frac{\\sigma^2}{n}}{\\sigma_0^2 + \\frac{\\sigma^2}{n}}\\bar{x}$$\n",
        "\n",
        "où $\\bar{x}$ est la moyenne des données observées $x_1, x_2, \\ldots, x_n$. La variance de la distribution a posteriori est donnée par :\n",
        "$$\\sigma_{\\text{posterior}}^2 = \\frac{\\sigma^2}{n + \\frac{\\sigma^2}{\\sigma_0^2}} = \\frac{1}{\\frac{1}{\\sigma^2}n + \\frac{1}{\\sigma_0^2}} $$\n",
        "\n",
        "La loi a posteriori pour $\\mu$ est donc une distribution normale avec une moyenne $\\mu_{\\text{posterior}}$ et une variance $\\sigma_{\\text{posterior}}^2$.\n",
        "\n"
      ]
    },
    {
      "cell_type": "markdown",
      "id": "9ce2daad",
      "metadata": {
        "id": "9ce2daad"
      },
      "source": [
        "**2.** Donnez les paramètres de la loi a posteriori obtenue pour chaque année de 2013 au 2023, considérée independament, dans un seul dataframe."
      ]
    },
    {
      "cell_type": "code",
      "execution_count": null,
      "id": "74439986",
      "metadata": {
        "id": "74439986",
        "colab": {
          "base_uri": "https://localhost:8080/",
          "height": 363
        },
        "outputId": "fdb9bf8a-abdf-4fa5-8472-cf339c68e2bc"
      },
      "outputs": [
        {
          "output_type": "execute_result",
          "data": {
            "text/plain": [
              "  Année   Moyenne Posterior  Variance Posterior\n",
              "0  2013  2246.0176914778854    1765.22506619594\n",
              "1  2014  2246.0176914778854    1765.22506619594\n",
              "2  2015   2243.259364235804   885.7395925597875\n",
              "3  2016  2242.1447096520737   589.0148726255338\n",
              "4  2017   2241.665640766701  442.42893485233935\n",
              "5  2018  2241.3750896707365   354.2644584182092\n",
              "6  2019  2241.1401686751037   295.3991581123994\n",
              "7  2020  2240.9639989627553  252.90844714213455\n",
              "8  2021   2240.862348673516   221.4103841470165\n",
              "9  2022  2240.7668716059657  196.88915140775742"
            ],
            "text/html": [
              "\n",
              "  <div id=\"df-d24aa8d6-88dd-4a40-8f5c-66cceaaf9a2e\" class=\"colab-df-container\">\n",
              "    <div>\n",
              "<style scoped>\n",
              "    .dataframe tbody tr th:only-of-type {\n",
              "        vertical-align: middle;\n",
              "    }\n",
              "\n",
              "    .dataframe tbody tr th {\n",
              "        vertical-align: top;\n",
              "    }\n",
              "\n",
              "    .dataframe thead th {\n",
              "        text-align: right;\n",
              "    }\n",
              "</style>\n",
              "<table border=\"1\" class=\"dataframe\">\n",
              "  <thead>\n",
              "    <tr style=\"text-align: right;\">\n",
              "      <th></th>\n",
              "      <th>Année</th>\n",
              "      <th>Moyenne Posterior</th>\n",
              "      <th>Variance Posterior</th>\n",
              "    </tr>\n",
              "  </thead>\n",
              "  <tbody>\n",
              "    <tr>\n",
              "      <th>0</th>\n",
              "      <td>2013</td>\n",
              "      <td>2246.0176914778854</td>\n",
              "      <td>1765.22506619594</td>\n",
              "    </tr>\n",
              "    <tr>\n",
              "      <th>1</th>\n",
              "      <td>2014</td>\n",
              "      <td>2246.0176914778854</td>\n",
              "      <td>1765.22506619594</td>\n",
              "    </tr>\n",
              "    <tr>\n",
              "      <th>2</th>\n",
              "      <td>2015</td>\n",
              "      <td>2243.259364235804</td>\n",
              "      <td>885.7395925597875</td>\n",
              "    </tr>\n",
              "    <tr>\n",
              "      <th>3</th>\n",
              "      <td>2016</td>\n",
              "      <td>2242.1447096520737</td>\n",
              "      <td>589.0148726255338</td>\n",
              "    </tr>\n",
              "    <tr>\n",
              "      <th>4</th>\n",
              "      <td>2017</td>\n",
              "      <td>2241.665640766701</td>\n",
              "      <td>442.42893485233935</td>\n",
              "    </tr>\n",
              "    <tr>\n",
              "      <th>5</th>\n",
              "      <td>2018</td>\n",
              "      <td>2241.3750896707365</td>\n",
              "      <td>354.2644584182092</td>\n",
              "    </tr>\n",
              "    <tr>\n",
              "      <th>6</th>\n",
              "      <td>2019</td>\n",
              "      <td>2241.1401686751037</td>\n",
              "      <td>295.3991581123994</td>\n",
              "    </tr>\n",
              "    <tr>\n",
              "      <th>7</th>\n",
              "      <td>2020</td>\n",
              "      <td>2240.9639989627553</td>\n",
              "      <td>252.90844714213455</td>\n",
              "    </tr>\n",
              "    <tr>\n",
              "      <th>8</th>\n",
              "      <td>2021</td>\n",
              "      <td>2240.862348673516</td>\n",
              "      <td>221.4103841470165</td>\n",
              "    </tr>\n",
              "    <tr>\n",
              "      <th>9</th>\n",
              "      <td>2022</td>\n",
              "      <td>2240.7668716059657</td>\n",
              "      <td>196.88915140775742</td>\n",
              "    </tr>\n",
              "  </tbody>\n",
              "</table>\n",
              "</div>\n",
              "    <div class=\"colab-df-buttons\">\n",
              "\n",
              "  <div class=\"colab-df-container\">\n",
              "    <button class=\"colab-df-convert\" onclick=\"convertToInteractive('df-d24aa8d6-88dd-4a40-8f5c-66cceaaf9a2e')\"\n",
              "            title=\"Convert this dataframe to an interactive table.\"\n",
              "            style=\"display:none;\">\n",
              "\n",
              "  <svg xmlns=\"http://www.w3.org/2000/svg\" height=\"24px\" viewBox=\"0 -960 960 960\">\n",
              "    <path d=\"M120-120v-720h720v720H120Zm60-500h600v-160H180v160Zm220 220h160v-160H400v160Zm0 220h160v-160H400v160ZM180-400h160v-160H180v160Zm440 0h160v-160H620v160ZM180-180h160v-160H180v160Zm440 0h160v-160H620v160Z\"/>\n",
              "  </svg>\n",
              "    </button>\n",
              "\n",
              "  <style>\n",
              "    .colab-df-container {\n",
              "      display:flex;\n",
              "      gap: 12px;\n",
              "    }\n",
              "\n",
              "    .colab-df-convert {\n",
              "      background-color: #E8F0FE;\n",
              "      border: none;\n",
              "      border-radius: 50%;\n",
              "      cursor: pointer;\n",
              "      display: none;\n",
              "      fill: #1967D2;\n",
              "      height: 32px;\n",
              "      padding: 0 0 0 0;\n",
              "      width: 32px;\n",
              "    }\n",
              "\n",
              "    .colab-df-convert:hover {\n",
              "      background-color: #E2EBFA;\n",
              "      box-shadow: 0px 1px 2px rgba(60, 64, 67, 0.3), 0px 1px 3px 1px rgba(60, 64, 67, 0.15);\n",
              "      fill: #174EA6;\n",
              "    }\n",
              "\n",
              "    .colab-df-buttons div {\n",
              "      margin-bottom: 4px;\n",
              "    }\n",
              "\n",
              "    [theme=dark] .colab-df-convert {\n",
              "      background-color: #3B4455;\n",
              "      fill: #D2E3FC;\n",
              "    }\n",
              "\n",
              "    [theme=dark] .colab-df-convert:hover {\n",
              "      background-color: #434B5C;\n",
              "      box-shadow: 0px 1px 3px 1px rgba(0, 0, 0, 0.15);\n",
              "      filter: drop-shadow(0px 1px 2px rgba(0, 0, 0, 0.3));\n",
              "      fill: #FFFFFF;\n",
              "    }\n",
              "  </style>\n",
              "\n",
              "    <script>\n",
              "      const buttonEl =\n",
              "        document.querySelector('#df-d24aa8d6-88dd-4a40-8f5c-66cceaaf9a2e button.colab-df-convert');\n",
              "      buttonEl.style.display =\n",
              "        google.colab.kernel.accessAllowed ? 'block' : 'none';\n",
              "\n",
              "      async function convertToInteractive(key) {\n",
              "        const element = document.querySelector('#df-d24aa8d6-88dd-4a40-8f5c-66cceaaf9a2e');\n",
              "        const dataTable =\n",
              "          await google.colab.kernel.invokeFunction('convertToInteractive',\n",
              "                                                    [key], {});\n",
              "        if (!dataTable) return;\n",
              "\n",
              "        const docLinkHtml = 'Like what you see? Visit the ' +\n",
              "          '<a target=\"_blank\" href=https://colab.research.google.com/notebooks/data_table.ipynb>data table notebook</a>'\n",
              "          + ' to learn more about interactive tables.';\n",
              "        element.innerHTML = '';\n",
              "        dataTable['output_type'] = 'display_data';\n",
              "        await google.colab.output.renderOutput(dataTable, element);\n",
              "        const docLink = document.createElement('div');\n",
              "        docLink.innerHTML = docLinkHtml;\n",
              "        element.appendChild(docLink);\n",
              "      }\n",
              "    </script>\n",
              "  </div>\n",
              "\n",
              "\n",
              "<div id=\"df-ef995fc6-f3c9-4322-89cc-1a74677ecbb4\">\n",
              "  <button class=\"colab-df-quickchart\" onclick=\"quickchart('df-ef995fc6-f3c9-4322-89cc-1a74677ecbb4')\"\n",
              "            title=\"Suggest charts.\"\n",
              "            style=\"display:none;\">\n",
              "\n",
              "<svg xmlns=\"http://www.w3.org/2000/svg\" height=\"24px\"viewBox=\"0 0 24 24\"\n",
              "     width=\"24px\">\n",
              "    <g>\n",
              "        <path d=\"M19 3H5c-1.1 0-2 .9-2 2v14c0 1.1.9 2 2 2h14c1.1 0 2-.9 2-2V5c0-1.1-.9-2-2-2zM9 17H7v-7h2v7zm4 0h-2V7h2v10zm4 0h-2v-4h2v4z\"/>\n",
              "    </g>\n",
              "</svg>\n",
              "  </button>\n",
              "\n",
              "<style>\n",
              "  .colab-df-quickchart {\n",
              "      --bg-color: #E8F0FE;\n",
              "      --fill-color: #1967D2;\n",
              "      --hover-bg-color: #E2EBFA;\n",
              "      --hover-fill-color: #174EA6;\n",
              "      --disabled-fill-color: #AAA;\n",
              "      --disabled-bg-color: #DDD;\n",
              "  }\n",
              "\n",
              "  [theme=dark] .colab-df-quickchart {\n",
              "      --bg-color: #3B4455;\n",
              "      --fill-color: #D2E3FC;\n",
              "      --hover-bg-color: #434B5C;\n",
              "      --hover-fill-color: #FFFFFF;\n",
              "      --disabled-bg-color: #3B4455;\n",
              "      --disabled-fill-color: #666;\n",
              "  }\n",
              "\n",
              "  .colab-df-quickchart {\n",
              "    background-color: var(--bg-color);\n",
              "    border: none;\n",
              "    border-radius: 50%;\n",
              "    cursor: pointer;\n",
              "    display: none;\n",
              "    fill: var(--fill-color);\n",
              "    height: 32px;\n",
              "    padding: 0;\n",
              "    width: 32px;\n",
              "  }\n",
              "\n",
              "  .colab-df-quickchart:hover {\n",
              "    background-color: var(--hover-bg-color);\n",
              "    box-shadow: 0 1px 2px rgba(60, 64, 67, 0.3), 0 1px 3px 1px rgba(60, 64, 67, 0.15);\n",
              "    fill: var(--button-hover-fill-color);\n",
              "  }\n",
              "\n",
              "  .colab-df-quickchart-complete:disabled,\n",
              "  .colab-df-quickchart-complete:disabled:hover {\n",
              "    background-color: var(--disabled-bg-color);\n",
              "    fill: var(--disabled-fill-color);\n",
              "    box-shadow: none;\n",
              "  }\n",
              "\n",
              "  .colab-df-spinner {\n",
              "    border: 2px solid var(--fill-color);\n",
              "    border-color: transparent;\n",
              "    border-bottom-color: var(--fill-color);\n",
              "    animation:\n",
              "      spin 1s steps(1) infinite;\n",
              "  }\n",
              "\n",
              "  @keyframes spin {\n",
              "    0% {\n",
              "      border-color: transparent;\n",
              "      border-bottom-color: var(--fill-color);\n",
              "      border-left-color: var(--fill-color);\n",
              "    }\n",
              "    20% {\n",
              "      border-color: transparent;\n",
              "      border-left-color: var(--fill-color);\n",
              "      border-top-color: var(--fill-color);\n",
              "    }\n",
              "    30% {\n",
              "      border-color: transparent;\n",
              "      border-left-color: var(--fill-color);\n",
              "      border-top-color: var(--fill-color);\n",
              "      border-right-color: var(--fill-color);\n",
              "    }\n",
              "    40% {\n",
              "      border-color: transparent;\n",
              "      border-right-color: var(--fill-color);\n",
              "      border-top-color: var(--fill-color);\n",
              "    }\n",
              "    60% {\n",
              "      border-color: transparent;\n",
              "      border-right-color: var(--fill-color);\n",
              "    }\n",
              "    80% {\n",
              "      border-color: transparent;\n",
              "      border-right-color: var(--fill-color);\n",
              "      border-bottom-color: var(--fill-color);\n",
              "    }\n",
              "    90% {\n",
              "      border-color: transparent;\n",
              "      border-bottom-color: var(--fill-color);\n",
              "    }\n",
              "  }\n",
              "</style>\n",
              "\n",
              "  <script>\n",
              "    async function quickchart(key) {\n",
              "      const quickchartButtonEl =\n",
              "        document.querySelector('#' + key + ' button');\n",
              "      quickchartButtonEl.disabled = true;  // To prevent multiple clicks.\n",
              "      quickchartButtonEl.classList.add('colab-df-spinner');\n",
              "      try {\n",
              "        const charts = await google.colab.kernel.invokeFunction(\n",
              "            'suggestCharts', [key], {});\n",
              "      } catch (error) {\n",
              "        console.error('Error during call to suggestCharts:', error);\n",
              "      }\n",
              "      quickchartButtonEl.classList.remove('colab-df-spinner');\n",
              "      quickchartButtonEl.classList.add('colab-df-quickchart-complete');\n",
              "    }\n",
              "    (() => {\n",
              "      let quickchartButtonEl =\n",
              "        document.querySelector('#df-ef995fc6-f3c9-4322-89cc-1a74677ecbb4 button');\n",
              "      quickchartButtonEl.style.display =\n",
              "        google.colab.kernel.accessAllowed ? 'block' : 'none';\n",
              "    })();\n",
              "  </script>\n",
              "</div>\n",
              "    </div>\n",
              "  </div>\n"
            ]
          },
          "metadata": {},
          "execution_count": 55
        }
      ],
      "source": [
        "# On retrouve les paramètres de la loi a posteriori pour la région Bretagne en hiver.\n",
        "region = \"Bretagne\"\n",
        "df_region = df[df.region == region]\n",
        "variance_1=400**2\n",
        "mean_0=3500\n",
        "variance_0=500**2\n",
        "\n",
        "\n",
        "Region_Date= df_region.copy()\n",
        "Region_Date.sort_values(by='date',ascending=False)\n",
        "\n",
        "# Convert the 'date' column to a datetime data type\n",
        "Region_Date['date'] = pd.to_datetime(Region_Date['date'])\n",
        "\n",
        "# Define the start date (December 22th)\n",
        "start_date = pd.to_datetime('2013-12-22')\n",
        "# Define the end date (March 12th)\n",
        "end_date = pd.to_datetime('2014-03-21')\n",
        "filtered_data_in = Region_Date[(Region_Date['date'] >= start_date) & (Region_Date['date'] <= end_date)]\n",
        "Data_Consumption_winter=filtered_data_in[\"consumption\"]\n",
        "# We define the array of years, mean and variance\n",
        "Years=['2013','2014','2015','2016', '2017', '2018', '2019', '2020', '2021', '2022']\n",
        "mean_posterior=np.zeros(10)\n",
        "variance_posterior=np.zeros(10)\n",
        "\n",
        "# We compute the mean and variance for the days between 2013 and 2014 in Winter\n",
        "data_mean = np.mean(Data_Consumption_winter)\n",
        "data_std = np.std(Data_Consumption_winter, ddof=1) # Utilisez l'estimateur de la variance\n",
        "n=len(Data_Consumption_winter)\n",
        "mean_posterior[0]=(variance_1/(variance_0+(variance_1/n)))*mean_0 +((variance_1/n)/(variance_0+(variance_1/n)))*data_mean\n",
        "variance_posterior[0]=(variance_1/(n+(variance_1/variance_0)))\n",
        "\n",
        "# We compute the mean and variance for all the years in the Winter Period\n",
        "count=1\n",
        "for x in range (2014,2023):\n",
        "  start_date=pd.to_datetime(str(x)+'-12-22')\n",
        "  end_date = pd.to_datetime(str(x+1)+'-03-21')\n",
        "  filtered_data = Region_Date[(Region_Date['date'] >= start_date) & (Region_Date['date'] <= end_date)]\n",
        "  Data_Consumption_winter=filtered_data_in[\"consumption\"]\n",
        "  # Computation of mean and priori variance.\n",
        "  n=len(Data_Consumption_winter)\n",
        "  data_mean = np.mean(Data_Consumption_winter)\n",
        "  mean_posterior[count]=(variance_1/(variance_0+(variance_1/n)))*mean_0 +((variance_1/n)/(variance_0+(variance_1/n)))*data_mean\n",
        "  variance_posterior[count]=(variance_1/(n+(variance_1/variance_0)))\n",
        "  count=count+1\n",
        "  Data_Final=pd.concat([filtered_data_in, filtered_data],axis=0)\n",
        "  # Data final\n",
        "  # Create a new DataFrame containing only the data within the specified date range\n",
        "  filtered_data_in=Data_Final\n",
        "\n",
        "columns2 = [\"Année\",\"Moyenne Posterior\",\"Variance Posterior\" ]\n",
        "Data_estimateurs=np.transpose(np.array([Years,mean_posterior, variance_posterior]))\n",
        "E_Dataframe = pd.DataFrame(data=Data_estimateurs,columns=columns2)\n",
        "E_Dataframe"
      ]
    },
    {
      "cell_type": "markdown",
      "id": "34e7e53f",
      "metadata": {
        "id": "34e7e53f"
      },
      "source": [
        "**3.**Tracez la densité de la loi a posteriori en 2023 et le *kde* des données réelles en 2023, sur le même graphique."
      ]
    },
    {
      "cell_type": "code",
      "execution_count": null,
      "id": "eb02344e",
      "metadata": {
        "id": "eb02344e",
        "colab": {
          "base_uri": "https://localhost:8080/",
          "height": 487
        },
        "outputId": "d9575c2a-e53b-4693-cab2-5a3e1bde0b59"
      },
      "outputs": [
        {
          "output_type": "display_data",
          "data": {
            "text/plain": [
              "<Figure size 800x500 with 1 Axes>"
            ],
            "image/png": "[encoded data removed]"
          },
          "metadata": {}
        }
      ],
      "source": [
        "# L'une des méthodes d'estimation de la PDF consiste à utiliser la méthode d'estimation de la densité de Kernel.\n",
        "# Tout d'abord, on commence par l'estimation des données réelles.\n",
        "\n",
        "# Define the start date (December 22th)\n",
        "start_date = pd.to_datetime('2022-12-22')\n",
        "# Define the end date (March 12th)\n",
        "end_date = pd.to_datetime('2023-03-21')\n",
        "filtered_data_in = Region_Date[(Region_Date['date'] >= start_date) & (Region_Date['date'] <= end_date)]\n",
        "Data_Consumption_winter2023=filtered_data_in[\"consumption\"]\n",
        "\n",
        "kde_real_winter = gaussian_kde(Data_Consumption_winter2023)\n",
        "x_realw = np.linspace(Data_Consumption_winter2023.min() - 1, Data_Consumption_winter2023.max() + 1, n)\n",
        "density_realw = kde_real_winter(x_realw)\n",
        "\n",
        "# Génération de données avec les estimateurs de moyenne et de variance\n",
        "new_data_mean = np.mean(Data_Consumption_winter2023)\n",
        "new_data_std = np.std(Data_Consumption_winter2023, ddof=1) # Utilisez l'estimateur de la variance\n",
        "New_data_winter = np.random.normal(new_data_mean, new_data_std, n)\n",
        "\n",
        "# Estimation de la densité des données générées avec KDE\n",
        "kde_new_winter = gaussian_kde(New_data_winter)\n",
        "x_new_winter= np.linspace(New_data_winter.min() - 1, New_data_winter.max() + 1, n)\n",
        "density_new_winter = kde_new_winter(x_new_winter)\n",
        "\n",
        "# Graphique de l'estimateur de la densité du noyau\n",
        "plt.figure(figsize=(8,5))\n",
        "plt.plot(x_realw, density_realw, label='Données réelles', color='green')\n",
        "plt.plot(x_new_winter, density_new_winter, label='Nouvelles données', color='black')\n",
        "plt.xlabel('Consumption(MW)')\n",
        "plt.ylabel('Density')\n",
        "plt.title('Kernel Density Estimator (KDE) for Real and New Data in Winter 2023')\n",
        "plt.legend()\n",
        "plt.show()"
      ]
    },
    {
      "cell_type": "markdown",
      "id": "34f2f990",
      "metadata": {
        "id": "34f2f990"
      },
      "source": [
        "**4.** Discutez les résultats, en les comparant avec ceux obtenus dans la partie A."
      ]
    },
    {
      "cell_type": "code",
      "source": [
        "# Comme nous avons déjà calculé les KDE dans la section A et pris en compte la mesure de dissimilarité, on peut procéder à l'intégration numérique.\n",
        "# Intégrande de la dissimilarité\n",
        "integrand = lambda x: (1/2) * abs(kde_real_winter(x) - kde_new_winter(x))\n",
        "\n",
        "# Calculez la dissimilarité en effectuant l'intégration numérique\n",
        "dissimilarity, _ = quad(integrand, x_realw.min(), x_realw.max())\n",
        "\n",
        "# La valeur de \"dissimilarity\" représente la dissimilarité entre le KDE des données réelles et la densité des nouvelles données.\n",
        "print(\"la dissimilarité entre le KDE des des données réelles et de la densité du modèle gaussien est égale à :\" + str(dissimilarity))"
      ],
      "metadata": {
        "colab": {
          "base_uri": "https://localhost:8080/"
        },
        "id": "7Z--LHLmYeb-",
        "outputId": "42ff4593-fb23-42d1-ac2c-71ab6736fa9d"
      },
      "id": "7Z--LHLmYeb-",
      "execution_count": null,
      "outputs": [
        {
          "output_type": "stream",
          "name": "stdout",
          "text": [
            "la dissimilarité entre le KDE des des données réelles et de la densité du modèle gaussien est égale à :0.041914377725384734\n"
          ]
        }
      ]
    },
    {
      "cell_type": "markdown",
      "id": "b636cd1b",
      "metadata": {
        "id": "b636cd1b"
      },
      "source": [
        "En comparant avec les résultats de la partie A, on constate que les courbes PDF pour les nouvelles données et les données réelles sont plus éloignées l'une de l'autre, comme le montre le fait que la valeur de la mesure de dissimilarité est plus élevée dans le cas de la statistique bayésienne, On pourrait dire que l'inférence bayésienne pourrait être plus précise si les paramètres a priori étaient plus proches de ceux de la vraie distribution, de même l'inférence bayésienne se comporte mieux lorsque la taille de l'échantillon $n$ est plus petite, en tout cas pour les deux méthodes d'inférence statistique on a obtenu des résultats acceptables."
      ]
    },
    {
      "cell_type": "markdown",
      "id": "fbb2395b",
      "metadata": {
        "id": "fbb2395b"
      },
      "source": [
        "## D. Test d'hypothèse"
      ]
    },
    {
      "cell_type": "markdown",
      "id": "9829b730",
      "metadata": {
        "id": "9829b730"
      },
      "source": [
        "Considérez la région Bretagne. Alors que l'écart-type en hiver est egal à 400MW, vous shouaitez tester l'hypothèse que c'était 500MW en 2023. La moyenne est supposée connue et egal à 3200MW.\n",
        "\n",
        "**1.** Proposez la statisque du test pour un niveau $\\alpha$."
      ]
    },
    {
      "cell_type": "markdown",
      "id": "eabddc9c",
      "metadata": {
        "id": "eabddc9c"
      },
      "source": [
        "On pourrait utiliser un test du rapport de vraisemblance (LRT). La façon de formuler la statistique de test pour un niveau de signification de $\\alpha$ est décrite ci-dessous : \\\\\n",
        "*Hypothèses:*  $H_0$ : L'écart-type de la consommation d'électricité en hiver en Bretagne en 2023 est de 500 MW.\n",
        "$H_1$ : L'écart-type de la consommation d'électricité en hiver en Bretagne en 2023 n'est pas de 500 MW. \\\\\n",
        "*Le calcul des statistiques de test:* la statistique de test du rapport de vraisemblance ($LRT$) est définie de la manière suivante :\n",
        "$$ LRT = -2 \\ln\\left(\\frac{L(H_0)}{L(H_1)}\\right) $$\n",
        "où $L(H_0)$ est la vraisemblance sous l'hypothèse nulle ($H_0$) et $L(H_1)$ est la vraisemblance sous l'hypothèse alternative ($H_1$).\n",
        "Cette statistique $LRT$ est approximativement conforme à une distribution chi-carré ($\\chi^2$) avec 1 degré de liberté. \\\\\n",
        "*On choisit le niveau de signification* $\\alpha$, par exemple $\\alpha = 0,01$ pour un seuil de 1%. \\\\\n",
        "*Choix:* on compare la valeur calculée de la statistique de test $LRT$ à la valeur critique de la distribution $\\chi^2$ avec 1 degré de liberté pour $\\alpha$. Si $LRT$ est supérieur au seuil critique, on peut rejeter l'hypothèse nulle ($H_0$).\n"
      ]
    },
    {
      "cell_type": "markdown",
      "id": "7d66ab40",
      "metadata": {
        "id": "7d66ab40"
      },
      "source": [
        "2. Donnez le résultat de ce test pour $\\alpha=1\\%$."
      ]
    },
    {
      "cell_type": "code",
      "execution_count": null,
      "id": "5e961bfd",
      "metadata": {
        "id": "5e961bfd"
      },
      "outputs": [],
      "source": []
    },
    {
      "cell_type": "markdown",
      "id": "a59a2a96",
      "metadata": {
        "id": "a59a2a96"
      },
      "source": [
        "## E. Test d'indépendence"
      ]
    },
    {
      "cell_type": "markdown",
      "id": "a71cf918",
      "metadata": {
        "id": "a71cf918"
      },
      "source": [
        "Considérez la consomation d'electicité en Bretagne et en Provence-Alpes-Côte d'Azur en hiver."
      ]
    },
    {
      "cell_type": "markdown",
      "id": "a7c78215",
      "metadata": {
        "id": "a7c78215"
      },
      "source": [
        "**1.** Visualisez la loi jointe de la consomation dans ces 2 régions en utilisant la librarie **seaborn**."
      ]
    },
    {
      "cell_type": "code",
      "execution_count": null,
      "id": "29b4c335",
      "metadata": {
        "id": "29b4c335",
        "colab": {
          "base_uri": "https://localhost:8080/",
          "height": 607
        },
        "outputId": "77b75646-f67d-419d-8fb9-cbb782cae8d9"
      },
      "outputs": [
        {
          "output_type": "display_data",
          "data": {
            "text/plain": [
              "<Figure size 600x600 with 3 Axes>"
            ],
            "image/png": "[encoded data removed]"
          },
          "metadata": {}
        }
      ],
      "source": [
        "# La première étape consiste à obtenir des échantillons les jours d'hiver.\n",
        "\n",
        "region1 = \"Bretagne\"\n",
        "df_region1 = df[df.region == region1]\n",
        "#\"Provence-Alpes-Côte d'Azur\"\n",
        "region2 = \"Provence-Alpes-Côte d'Azur\"\n",
        "df_region2 = df[df.region == region2]\n",
        "\n",
        "Region_Date1= df_region1.copy()\n",
        "Region_Date1.sort_values(by='date',ascending=False)\n",
        "\n",
        "Region_Date2= df_region2.copy()\n",
        "Region_Date2.sort_values(by='date',ascending=False)\n",
        "\n",
        "# Convert the 'date' column to a datetime data type\n",
        "Region_Date1['date'] = pd.to_datetime(Region_Date1['date'])\n",
        "Region_Date2['date'] = pd.to_datetime(Region_Date2['date'])\n",
        "\n",
        "# Define the start date (December 22th)\n",
        "start_date = pd.to_datetime('2013-12-22')\n",
        "# Define the end date (March 12th)\n",
        "end_date = pd.to_datetime('2014-03-21')\n",
        "filtered_data_in1 = Region_Date1[(Region_Date1['date'] >= start_date) & (Region_Date1['date'] <= end_date)]\n",
        "filtered_data_in2 = Region_Date2[(Region_Date2['date'] >= start_date) & (Region_Date2['date'] <= end_date)]\n",
        "\n",
        "for x in range (2014,2023):\n",
        "  start_date=pd.to_datetime(str(x)+'-12-22')\n",
        "  end_date = pd.to_datetime(str(x+1)+'-03-21')\n",
        "  filtered_data1 = Region_Date1[(Region_Date1['date'] >= start_date) & (Region_Date1['date'] <= end_date)]\n",
        "  filtered_data2 = Region_Date2[(Region_Date2['date'] >= start_date) & (Region_Date2['date'] <= end_date)]\n",
        "\n",
        "  Data_Final1=pd.concat([filtered_data_in1, filtered_data1],axis=0)\n",
        "  Data_Final2=pd.concat([filtered_data_in2, filtered_data2],axis=0)\n",
        "  # Create a new DataFrame containing only the data within the specified date range\n",
        "  filtered_data_in1=Data_Final1\n",
        "  filtered_data_in2=Data_Final2\n",
        "\n",
        "Data_Consumption1=Data_Final1[\"consumption\"]\n",
        "Data_Consumption2=Data_Final2[\"consumption\"]\n",
        "\n",
        "# Créez un DataFrame\n",
        "\n",
        "columns2 = [\"Consommation_Bretagne\",\"Consommation_Provence-Alpes\" ]\n",
        "joinData=np.transpose(np.array([Data_Consumption1,Data_Consumption2]))\n",
        "J_Dataframe = pd.DataFrame(data=joinData,columns=columns2)\n",
        "\n",
        "# Tracez le nuage de points avec estimation de la loi jointe\n",
        "sns.jointplot(data=J_Dataframe, x=\"Consommation_Bretagne\", y=\"Consommation_Provence-Alpes\", kind=\"scatter\")\n",
        "\n",
        "# Affichez le graphique\n",
        "plt.show()\n"
      ]
    },
    {
      "cell_type": "markdown",
      "id": "a30a20bc",
      "metadata": {
        "id": "a30a20bc"
      },
      "source": [
        "**2.** Est-ce que vous pensez que la consomation dans ces 2 régions est indépendante ?"
      ]
    },
    {
      "cell_type": "markdown",
      "id": "bedb9130",
      "metadata": {
        "id": "bedb9130"
      },
      "source": [
        "Si on regarde le graphique de la loi jointe du graphique précédent, on peut voir que les deux variables ont une corrélation positive que l'on pourrait dire proche de un, ce qui nous amènerait à penser que les variables sont corrélées, donc on pourrait dire que la consommation dans les deux régions tend à être dépendante, mais c'est essentiellement parce que les habitudes de consommation d'énergie sont presque similaires pour toutes les régions et non pas parce qu'il y a une réelle corrélation entre les variables."
      ]
    },
    {
      "cell_type": "markdown",
      "id": "164f9b1c",
      "metadata": {
        "id": "164f9b1c"
      },
      "source": [
        "**3.** Proposez le test du Chi-2 pour l'indépendance de la consomation dans ces deux régions pour un niveau $\\alpha$."
      ]
    },
    {
      "cell_type": "markdown",
      "id": "f079fecb",
      "metadata": {
        "id": "f079fecb"
      },
      "source": [
        "Pour tester l'indépendance entre les consommations d'électricité en Bretagne et en Provence-Alpes-Côte d'Azur, en utilisant le test du  ($\\chi^2$) pour l'indépendance, nous pouvons procéder comme suit :\n",
        "\n",
        "*Hypothèses :* ($H_0$) : La consommation d'électricité dans les deux régions est indépendante.\n",
        "($H_1$) : La consommation d'électricité dans les deux régions n'est pas indépendante. \\\\\n",
        "à partir de la loi jointe, on peut construire un tableau de contingence utilisé plus tard. \\\\\n",
        "*Calcul de la statistique de test $\\chi^2$*\n",
        "Calculer la statistique de test $\\chi^2$ à l'aide du tableau de contingence en appliquant la formule :\n",
        "$$\\chi^2 = \\sum \\frac{(O - E)^2}{E}$$\n",
        "Où, *O:* Observation et\n",
        "*E:* Fréquence espérée dans chaque cellule, obtenue sous l'hypothèse nulle d'indépendance.\n",
        "\n",
        "Ensuite, on calcule les degrés de liberté ($df$) en fonction de la taille du tableau de contingence.\n",
        "l'étape suivante consiste à choisir un niveau de signification $\\alpha$ (par exemple $\\alpha=0,01$) pour votre test.\n",
        "\n",
        "*Prise de décision* : Comparez la statistique de test $\\chi^2$ à la valeur critique du $\\chi^2$ correspondant aux degrés de liberté et au niveau de signification $\\alpha$.\n",
        "\n",
        "Si $\\chi^2$ observé > $\\chi^2$ critique, rejetez l'hypothèse nulle ($H_0$).\n",
        "Si $\\chi^2$ observé <= $\\chi^2$ critique, ne rejetez pas $H_0$"
      ]
    },
    {
      "cell_type": "markdown",
      "id": "50a23229",
      "metadata": {
        "id": "50a23229"
      },
      "source": [
        "4. Donnez le résultat de ce test pour $\\alpha=1\\%$."
      ]
    },
    {
      "cell_type": "code",
      "execution_count": null,
      "id": "5e744874",
      "metadata": {
        "id": "5e744874"
      },
      "outputs": [],
      "source": []
    },
    {
      "cell_type": "markdown",
      "id": "339d7f64",
      "metadata": {
        "id": "339d7f64"
      },
      "source": [
        "## F. Intervalle de confiance"
      ]
    },
    {
      "cell_type": "markdown",
      "id": "1c957e74",
      "metadata": {
        "id": "1c957e74"
      },
      "source": [
        "Considérez la région Bretagne en hiver.\n",
        "\n",
        "**1.** Donnez l'intervalle de confiance pour un niveau $\\alpha=95\\%$ pour la moyenne consomation d'electricité."
      ]
    },
    {
      "cell_type": "code",
      "execution_count": null,
      "id": "cd6315e4",
      "metadata": {
        "id": "cd6315e4",
        "colab": {
          "base_uri": "https://localhost:8080/"
        },
        "outputId": "228297cd-9e1c-4d87-dc68-2f285178d5bb"
      },
      "outputs": [
        {
          "output_type": "stream",
          "name": "stdout",
          "text": [
            "Alors, on peut dire avec 95% de certitude que la vraie valeur de la moyenne est comprise entre:3197.5322193643983 et 3198.8668937176412\n"
          ]
        }
      ],
      "source": [
        "# nous calculons la moyenne et l'écart-type de la distribution\n",
        "new_data_mean = np.mean(Data_Consumption)\n",
        "new_data_std = np.std(Data_Consumption, ddof=1) # Utilisez l'estimateur de la variance\n",
        "# On détermine la taille de l'échantillon\n",
        "n=len(Data_Consumption)\n",
        "# En utilisant la distribution de Student (t), il est possible de trouver le quantile approprié à partir des tableaux de distribution t.\n",
        "# Pour un niveau de confiance de 95 %, avec n-1 degrés de liberté, le quantile de t est généralement d'environ 1,96.\n",
        "t=1.96\n",
        "alpha=0.05\n",
        "# On Calcule la marge d'erreur (ME)\n",
        "ME=(t*(alpha/2)*new_data_std)/(n**(1/2))\n",
        "# On calcule l'intervale de Confiance:\n",
        "IC1=new_data_mean-ME\n",
        "IC2=new_data_mean+ME\n",
        "print(\"Alors, on peut dire avec 95% de certitude que la vraie valeur de la moyenne est comprise entre:\" + str(IC1) + \" et \" + str(IC2))"
      ]
    },
    {
      "cell_type": "markdown",
      "id": "8490c8fa",
      "metadata": {
        "id": "8490c8fa"
      },
      "source": [
        "2. Donnez le résultat du test de Student pour un niveau $5\\%$ pour l'hypothèse null que la moyenne consomation en 2023 est egal à 3100MW."
      ]
    },
    {
      "cell_type": "code",
      "execution_count": null,
      "id": "547fb138",
      "metadata": {
        "id": "547fb138"
      },
      "outputs": [],
      "source": []
    }
  ],
  "metadata": {
    "kernelspec": {
      "display_name": "Python 3 (ipykernel)",
      "language": "python",
      "name": "python3"
    },
    "language_info": {
      "codemirror_mode": {
        "name": "ipython",
        "version": 3
      },
      "file_extension": ".py",
      "mimetype": "text/x-python",
      "name": "python",
      "nbconvert_exporter": "python",
      "pygments_lexer": "ipython3",
      "version": "3.9.12"
    },
    "colab": {
      "provenance": []
    }
  },
  "nbformat": 4,
  "nbformat_minor": 5
}